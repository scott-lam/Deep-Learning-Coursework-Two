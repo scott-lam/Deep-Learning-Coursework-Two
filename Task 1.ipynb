{
 "cells": [
  {
   "cell_type": "markdown",
   "id": "fd00ed8d",
   "metadata": {},
   "source": [
    "## Import Data"
   ]
  },
  {
   "cell_type": "code",
   "execution_count": 2,
   "id": "890aa329",
   "metadata": {},
   "outputs": [],
   "source": [
    "import pandas as pd\n",
    "import numpy as np\n",
    "from sklearn.model_selection import train_test_split\n",
    "\n",
    "df = pd.read_csv('traindrug.csv',encoding = \"ISO-8859-1\")\n",
    "data = df.values[:, 0]\n",
    "labels = df.values[:, 1]\n",
    "\n",
    "testDf = pd.read_csv('testdrug.csv')\n",
    "testData = testDf.values[:, 0]\n",
    "testLabels = testDf.values[:, 1]"
   ]
  },
  {
   "cell_type": "markdown",
   "id": "62808ca7",
   "metadata": {},
   "source": [
    "## Word2Vec and GloVe"
   ]
  },
  {
   "cell_type": "code",
   "execution_count": 3,
   "id": "c5f91eb1",
   "metadata": {},
   "outputs": [
    {
     "name": "stderr",
     "output_type": "stream",
     "text": [
      "<ipython-input-3-668db1155db1>:6: DeprecationWarning: Call to deprecated `wv` (Attribute will be removed in 4.0.0, use self instead).\n",
      "  word2vec_vectors = word2vec.wv\n",
      "<ipython-input-3-668db1155db1>:10: DeprecationWarning: Call to deprecated `wv` (Attribute will be removed in 4.0.0, use self instead).\n",
      "  glove_vectors = glove.wv\n"
     ]
    }
   ],
   "source": [
    "from gensim.models import KeyedVectors\n",
    "import re\n",
    "\n",
    "file = 'GoogleNews-vectors-negative300.bin'\n",
    "word2vec = KeyedVectors.load_word2vec_format(file, binary=True, limit=50000)\n",
    "word2vec_vectors = word2vec.wv\n",
    "\n",
    "gloveFile = 'glove.6B.300d.txt.word2vec'\n",
    "glove = KeyedVectors.load_word2vec_format(gloveFile, binary=False, limit=50000)\n",
    "glove_vectors = glove.wv"
   ]
  },
  {
   "cell_type": "code",
   "execution_count": 4,
   "id": "bddfe2e4",
   "metadata": {},
   "outputs": [],
   "source": [
    "def text2vec(list):\n",
    "    vectors = []\n",
    "    for row in list:\n",
    "        tokens = [w.lower() for w in re.sub(r'[^\\w\\s]','',row).split(' ')]\n",
    "        temp = []\n",
    "        for token in tokens:\n",
    "            if token in word2vec_vectors:\n",
    "                temp.append(word2vec[token])\n",
    "        vectors.append(np.mean(temp, axis=0))\n",
    "    return np.asarray(vectors)"
   ]
  },
  {
   "cell_type": "code",
   "execution_count": 5,
   "id": "a5a187e5",
   "metadata": {},
   "outputs": [],
   "source": [
    "#Converting text data into vectors\n",
    "def text2glove(list):\n",
    "    vectors = []\n",
    "    for row in list:\n",
    "        tokens = [w.lower() for w in re.sub(r'[^\\w\\s]','',row).split(' ')]\n",
    "        temp = []\n",
    "        for token in tokens:\n",
    "            if token in glove_vectors:\n",
    "                temp.append(glove[token])\n",
    "        vectors.append(np.mean(temp, axis=0))\n",
    "    return np.asarray(vectors)"
   ]
  },
  {
   "cell_type": "code",
   "execution_count": 106,
   "id": "f5e40792",
   "metadata": {},
   "outputs": [],
   "source": [
    "dataTrain = text2vec(data)\n",
    "dataTest = text2vec(testData)"
   ]
  },
  {
   "cell_type": "code",
   "execution_count": 111,
   "id": "4716a2a9",
   "metadata": {},
   "outputs": [],
   "source": [
    "dataTrain = text2glove(data)\n",
    "dataTest = text2glove(testData)"
   ]
  },
  {
   "cell_type": "markdown",
   "id": "3162931f",
   "metadata": {},
   "source": [
    "## Keras Imports"
   ]
  },
  {
   "cell_type": "code",
   "execution_count": 7,
   "id": "431ccbe6",
   "metadata": {},
   "outputs": [],
   "source": [
    "from keras.models import Sequential\n",
    "from keras.layers import Dense, Flatten, Conv1D, GlobalMaxPooling1D, Dropout, Embedding, LSTM\n",
    "from keras import optimizers\n",
    "from keras.layers.embeddings import Embedding\n",
    "from keras import initializers\n",
    "from keras.regularizers import l1\n",
    "import tensorflow\n",
    "import matplotlib.pyplot as plt\n",
    "\n",
    "tensorflow.random.set_seed(0)\n",
    "np.random.seed(0)"
   ]
  },
  {
   "cell_type": "code",
   "execution_count": 8,
   "id": "446cfd75",
   "metadata": {},
   "outputs": [],
   "source": [
    "testLabels = np.asarray(testLabels).astype(np.float32)\n",
    "labels = np.asarray(labels).astype(np.float32)"
   ]
  },
  {
   "cell_type": "markdown",
   "id": "d64e5fe8",
   "metadata": {},
   "source": [
    "## MLP Vector"
   ]
  },
  {
   "cell_type": "code",
   "execution_count": 116,
   "id": "8f2548e7",
   "metadata": {
    "scrolled": true
   },
   "outputs": [
    {
     "name": "stdout",
     "output_type": "stream",
     "text": [
      "Epoch 1/50\n",
      "32/32 [==============================] - 0s 6ms/step - loss: 1.9187 - mse: 1.6320 - mae: 1.0353 - val_loss: 0.9172 - val_mse: 0.6898 - val_mae: 0.7175\n",
      "Epoch 2/50\n",
      "32/32 [==============================] - 0s 2ms/step - loss: 0.8270 - mse: 0.6545 - mae: 0.6886 - val_loss: 0.7860 - val_mse: 0.6490 - val_mae: 0.6837\n",
      "Epoch 3/50\n",
      "32/32 [==============================] - 0s 2ms/step - loss: 0.7742 - mse: 0.6523 - mae: 0.6867 - val_loss: 0.7585 - val_mse: 0.6468 - val_mae: 0.6871\n",
      "Epoch 4/50\n",
      "32/32 [==============================] - 0s 2ms/step - loss: 0.7349 - mse: 0.6268 - mae: 0.6731 - val_loss: 0.7378 - val_mse: 0.6334 - val_mae: 0.6770\n",
      "Epoch 5/50\n",
      "32/32 [==============================] - 0s 2ms/step - loss: 0.7376 - mse: 0.6335 - mae: 0.6788 - val_loss: 0.7262 - val_mse: 0.6255 - val_mae: 0.6674\n",
      "Epoch 6/50\n",
      "32/32 [==============================] - 0s 2ms/step - loss: 0.7257 - mse: 0.6222 - mae: 0.6705 - val_loss: 0.7198 - val_mse: 0.6184 - val_mae: 0.6639\n",
      "Epoch 7/50\n",
      "32/32 [==============================] - 0s 2ms/step - loss: 0.7107 - mse: 0.6081 - mae: 0.6653 - val_loss: 0.7134 - val_mse: 0.6126 - val_mae: 0.6595\n",
      "Epoch 8/50\n",
      "32/32 [==============================] - 0s 2ms/step - loss: 0.7240 - mse: 0.6185 - mae: 0.6742 - val_loss: 0.8013 - val_mse: 0.6945 - val_mae: 0.7234\n",
      "Epoch 9/50\n",
      "32/32 [==============================] - 0s 3ms/step - loss: 0.7216 - mse: 0.6210 - mae: 0.6706 - val_loss: 0.7479 - val_mse: 0.6485 - val_mae: 0.6944\n",
      "Epoch 10/50\n",
      "32/32 [==============================] - 0s 2ms/step - loss: 0.6874 - mse: 0.5896 - mae: 0.6528 - val_loss: 0.7119 - val_mse: 0.6157 - val_mae: 0.6655\n",
      "Epoch 11/50\n",
      "32/32 [==============================] - 0s 2ms/step - loss: 0.7005 - mse: 0.6030 - mae: 0.6594 - val_loss: 0.7409 - val_mse: 0.6429 - val_mae: 0.6903\n",
      "Epoch 12/50\n",
      "32/32 [==============================] - 0s 2ms/step - loss: 0.6893 - mse: 0.5945 - mae: 0.6551 - val_loss: 0.7298 - val_mse: 0.6351 - val_mae: 0.6845\n",
      "Epoch 13/50\n",
      "32/32 [==============================] - 0s 2ms/step - loss: 0.6699 - mse: 0.5723 - mae: 0.6441 - val_loss: 0.6981 - val_mse: 0.6014 - val_mae: 0.6584\n",
      "Epoch 14/50\n",
      "32/32 [==============================] - 0s 2ms/step - loss: 0.6654 - mse: 0.5676 - mae: 0.6420 - val_loss: 0.8056 - val_mse: 0.7080 - val_mae: 0.7276\n",
      "Epoch 15/50\n",
      "32/32 [==============================] - 0s 2ms/step - loss: 0.6982 - mse: 0.6021 - mae: 0.6573 - val_loss: 0.6928 - val_mse: 0.5992 - val_mae: 0.6571\n",
      "Epoch 16/50\n",
      "32/32 [==============================] - 0s 2ms/step - loss: 0.6538 - mse: 0.5603 - mae: 0.6363 - val_loss: 0.7485 - val_mse: 0.6542 - val_mae: 0.6976\n",
      "Epoch 17/50\n",
      "32/32 [==============================] - 0s 2ms/step - loss: 0.6462 - mse: 0.5540 - mae: 0.6307 - val_loss: 0.6841 - val_mse: 0.5938 - val_mae: 0.6544\n",
      "Epoch 18/50\n",
      "32/32 [==============================] - 0s 2ms/step - loss: 0.6245 - mse: 0.5347 - mae: 0.6205 - val_loss: 0.7063 - val_mse: 0.6177 - val_mae: 0.6720\n",
      "Epoch 19/50\n",
      "32/32 [==============================] - 0s 2ms/step - loss: 0.6430 - mse: 0.5540 - mae: 0.6291 - val_loss: 0.7194 - val_mse: 0.6307 - val_mae: 0.6805\n",
      "Epoch 20/50\n",
      "32/32 [==============================] - 0s 2ms/step - loss: 0.6350 - mse: 0.5473 - mae: 0.6284 - val_loss: 0.6860 - val_mse: 0.6010 - val_mae: 0.6607\n",
      "Epoch 21/50\n",
      "32/32 [==============================] - 0s 2ms/step - loss: 0.6161 - mse: 0.5312 - mae: 0.6185 - val_loss: 0.7046 - val_mse: 0.6201 - val_mae: 0.6715\n",
      "Epoch 22/50\n",
      "32/32 [==============================] - 0s 2ms/step - loss: 0.6250 - mse: 0.5414 - mae: 0.6276 - val_loss: 0.6769 - val_mse: 0.5952 - val_mae: 0.6553\n",
      "Epoch 23/50\n",
      "32/32 [==============================] - 0s 2ms/step - loss: 0.5905 - mse: 0.5097 - mae: 0.6047 - val_loss: 0.6685 - val_mse: 0.5890 - val_mae: 0.6520\n",
      "Epoch 24/50\n",
      "32/32 [==============================] - 0s 2ms/step - loss: 0.6024 - mse: 0.5212 - mae: 0.6105 - val_loss: 0.6785 - val_mse: 0.5974 - val_mae: 0.6564\n",
      "Epoch 25/50\n",
      "32/32 [==============================] - 0s 2ms/step - loss: 0.6000 - mse: 0.5201 - mae: 0.6079 - val_loss: 0.7208 - val_mse: 0.6416 - val_mae: 0.6841\n",
      "Epoch 26/50\n",
      "32/32 [==============================] - 0s 2ms/step - loss: 0.5897 - mse: 0.5115 - mae: 0.6020 - val_loss: 0.7389 - val_mse: 0.6602 - val_mae: 0.6894\n",
      "Epoch 27/50\n",
      "32/32 [==============================] - 0s 2ms/step - loss: 0.6056 - mse: 0.5275 - mae: 0.6145 - val_loss: 0.6801 - val_mse: 0.6028 - val_mae: 0.6605\n",
      "Epoch 28/50\n",
      "32/32 [==============================] - 0s 2ms/step - loss: 0.5784 - mse: 0.5008 - mae: 0.6034 - val_loss: 0.6675 - val_mse: 0.5902 - val_mae: 0.6521\n",
      "Epoch 29/50\n",
      "32/32 [==============================] - 0s 2ms/step - loss: 0.5687 - mse: 0.4916 - mae: 0.5910 - val_loss: 0.6697 - val_mse: 0.5926 - val_mae: 0.6517\n",
      "Epoch 30/50\n",
      "32/32 [==============================] - 0s 2ms/step - loss: 0.5691 - mse: 0.4917 - mae: 0.5898 - val_loss: 0.6764 - val_mse: 0.5991 - val_mae: 0.6549\n",
      "Epoch 31/50\n",
      "32/32 [==============================] - 0s 2ms/step - loss: 0.5666 - mse: 0.4892 - mae: 0.5869 - val_loss: 0.7265 - val_mse: 0.6483 - val_mae: 0.6828\n",
      "Epoch 32/50\n",
      "32/32 [==============================] - 0s 2ms/step - loss: 0.5681 - mse: 0.4904 - mae: 0.5893 - val_loss: 0.6698 - val_mse: 0.5923 - val_mae: 0.6504\n",
      "Epoch 33/50\n",
      "32/32 [==============================] - 0s 2ms/step - loss: 0.6187 - mse: 0.5406 - mae: 0.6145 - val_loss: 0.6966 - val_mse: 0.6187 - val_mae: 0.6686\n",
      "Epoch 34/50\n",
      "32/32 [==============================] - 0s 2ms/step - loss: 0.5876 - mse: 0.5099 - mae: 0.6012 - val_loss: 0.6934 - val_mse: 0.6160 - val_mae: 0.6653\n",
      "Epoch 35/50\n",
      "32/32 [==============================] - 0s 2ms/step - loss: 0.5556 - mse: 0.4776 - mae: 0.5823 - val_loss: 0.6693 - val_mse: 0.5914 - val_mae: 0.6503\n",
      "Epoch 36/50\n",
      "32/32 [==============================] - 0s 2ms/step - loss: 0.5557 - mse: 0.4770 - mae: 0.5845 - val_loss: 0.6980 - val_mse: 0.6194 - val_mae: 0.6648\n",
      "Epoch 37/50\n",
      "32/32 [==============================] - 0s 2ms/step - loss: 0.5568 - mse: 0.4782 - mae: 0.5806 - val_loss: 0.6689 - val_mse: 0.5903 - val_mae: 0.6485\n",
      "Epoch 38/50\n",
      "32/32 [==============================] - 0s 2ms/step - loss: 0.5486 - mse: 0.4693 - mae: 0.5720 - val_loss: 0.6719 - val_mse: 0.5923 - val_mae: 0.6489\n",
      "Epoch 39/50\n",
      "32/32 [==============================] - 0s 2ms/step - loss: 0.5853 - mse: 0.5056 - mae: 0.5959 - val_loss: 0.6802 - val_mse: 0.6007 - val_mae: 0.6556\n",
      "Epoch 40/50\n",
      "32/32 [==============================] - 0s 2ms/step - loss: 0.5375 - mse: 0.4581 - mae: 0.5647 - val_loss: 0.7173 - val_mse: 0.6381 - val_mae: 0.6708\n",
      "Epoch 41/50\n",
      "32/32 [==============================] - 0s 2ms/step - loss: 0.5643 - mse: 0.4846 - mae: 0.5837 - val_loss: 0.6649 - val_mse: 0.5855 - val_mae: 0.6466\n",
      "Epoch 42/50\n",
      "32/32 [==============================] - 0s 2ms/step - loss: 0.5349 - mse: 0.4555 - mae: 0.5660 - val_loss: 0.6969 - val_mse: 0.6172 - val_mae: 0.6598\n",
      "Epoch 43/50\n",
      "32/32 [==============================] - 0s 2ms/step - loss: 0.5464 - mse: 0.4664 - mae: 0.5698 - val_loss: 0.6922 - val_mse: 0.6121 - val_mae: 0.6576\n",
      "Epoch 44/50\n",
      "32/32 [==============================] - 0s 2ms/step - loss: 0.5338 - mse: 0.4533 - mae: 0.5629 - val_loss: 0.7020 - val_mse: 0.6214 - val_mae: 0.6604\n",
      "Epoch 45/50\n",
      "32/32 [==============================] - 0s 2ms/step - loss: 0.5486 - mse: 0.4675 - mae: 0.5676 - val_loss: 0.6847 - val_mse: 0.6037 - val_mae: 0.6517\n",
      "Epoch 46/50\n",
      "32/32 [==============================] - 0s 2ms/step - loss: 0.5326 - mse: 0.4514 - mae: 0.5625 - val_loss: 0.6801 - val_mse: 0.5987 - val_mae: 0.6486\n",
      "Epoch 47/50\n",
      "32/32 [==============================] - 0s 2ms/step - loss: 0.5298 - mse: 0.4482 - mae: 0.5584 - val_loss: 0.6941 - val_mse: 0.6125 - val_mae: 0.6553\n",
      "Epoch 48/50\n",
      "32/32 [==============================] - 0s 2ms/step - loss: 0.5851 - mse: 0.5026 - mae: 0.5929 - val_loss: 0.6848 - val_mse: 0.6024 - val_mae: 0.6529\n",
      "Epoch 49/50\n",
      "32/32 [==============================] - 0s 2ms/step - loss: 0.5394 - mse: 0.4569 - mae: 0.5653 - val_loss: 0.6796 - val_mse: 0.5972 - val_mae: 0.6477\n",
      "Epoch 50/50\n",
      "32/32 [==============================] - 0s 2ms/step - loss: 0.5318 - mse: 0.4490 - mae: 0.5561 - val_loss: 0.7056 - val_mse: 0.6228 - val_mae: 0.6613\n"
     ]
    },
    {
     "name": "stdout",
     "output_type": "stream",
     "text": [
      " 1/16 [>.............................] - ETA: 0s - loss: 0.5620 - mse: 0.4792 - mae: 0.6568\b\b\b\b\b\b\b\b\b\b\b\b\b\b\b\b\b\b\b\b\b\b\b\b\b\b\b\b\b\b\b\b\b\b\b\b\b\b\b\b\b\b\b\b\b\b\b\b\b\b\b\b\b\b\b\b\b\b\b\b\b\b\b\b\b\b\b\b\b\b\b\b\b\b\b\b\b\b\b\b\b\b\b\b\b\b\b\b\b\b\b\r",
      "16/16 [==============================] - 0s 781us/step - loss: 0.7056 - mse: 0.6228 - mae: 0.6613\n"
     ]
    },
    {
     "data": {
      "image/png": "[encoded data removed]",
      "text/plain": [
       "<Figure size 432x288 with 1 Axes>"
      ]
     },
     "metadata": {
      "needs_background": "light"
     },
     "output_type": "display_data"
    },
    {
     "data": {
      "image/png": "[encoded data removed]",
      "text/plain": [
       "<Figure size 432x288 with 1 Axes>"
      ]
     },
     "metadata": {
      "needs_background": "light"
     },
     "output_type": "display_data"
    },
    {
     "name": "stdout",
     "output_type": "stream",
     "text": [
      "0.6228404641151428\n",
      "0.6613222360610962\n"
     ]
    }
   ],
   "source": [
    "model = Sequential()\n",
    "model.add(Dense(64, input_dim = dataTrain.shape[1], activation='relu', kernel_initializer='random_uniform', bias_initializer='zeros',kernel_regularizer=l1(0.001)))\n",
    "model.add(Dense(32, activation='relu', kernel_initializer='random_uniform', bias_initializer='zeros', kernel_regularizer=l1(0.001)))\n",
    "model.add(Dense(1, activation = 'linear', kernel_initializer='random_uniform', bias_initializer='zeros', kernel_regularizer=l1(0.001)))\n",
    "opt = optimizers.Adam(lr=0.005)\n",
    "model.compile(optimizer=opt, loss='mean_squared_error', metrics=['mse', 'mae'])\n",
    "history = model.fit(dataTrain, labels, validation_data=(dataTest, testLabels), epochs=50, verbose=1, batch_size=32, shuffle=True)\n",
    "\n",
    "_, mse, mae = model.evaluate(dataTest, testLabels)\n",
    "\n",
    "plt.plot(history.history['mse'])\n",
    "plt.plot(history.history['val_mse'])\n",
    "plt.title('model mse')\n",
    "plt.ylabel('MSE')\n",
    "plt.xlabel('epoch')\n",
    "plt.legend(['Train', 'Test'], loc='upper left')\n",
    "plt.show()\n",
    "\n",
    "# Plot training & validation accuracy values\n",
    "plt.plot(history.history['mae'])\n",
    "plt.plot(history.history['val_mae'])\n",
    "plt.title('model mae')\n",
    "plt.ylabel('MAE')\n",
    "plt.xlabel('Epoch')\n",
    "plt.legend(['Train', 'Test'], loc='upper left')\n",
    "plt.show()\n",
    "\n",
    "print(mse)\n",
    "print(mae)"
   ]
  },
  {
   "cell_type": "code",
   "execution_count": 10,
   "id": "05fd1956",
   "metadata": {},
   "outputs": [],
   "source": [
    "preds = model.predict(dataTest)"
   ]
  },
  {
   "cell_type": "markdown",
   "id": "c9d47575",
   "metadata": {},
   "source": [
    "## Tokenization for Sequences"
   ]
  },
  {
   "cell_type": "code",
   "execution_count": 38,
   "id": "9eea91e9",
   "metadata": {},
   "outputs": [],
   "source": [
    "from keras.preprocessing.text import Tokenizer\n",
    "from keras.preprocessing.sequence import pad_sequences\n",
    "tokenizer = Tokenizer(num_words=None, filters='!\"#$%&()*+,-./:;<=>?@[\\\\]^_`{|}~\\t\\n', lower=True,split=' ')\n",
    "tokenizer.fit_on_texts(data)\n",
    "token_list_train = tokenizer.texts_to_sequences(data)\n",
    "token_list_test = tokenizer.texts_to_sequences(testData)\n",
    "num_words = len(tokenizer.word_index)+1"
   ]
  },
  {
   "cell_type": "code",
   "execution_count": 39,
   "id": "48489f68",
   "metadata": {},
   "outputs": [],
   "source": [
    "length = []\n",
    "for x in data:\n",
    "    length.append(len(x.split()))\n",
    "max_length = max(length)"
   ]
  },
  {
   "cell_type": "code",
   "execution_count": 40,
   "id": "3f05ac2b",
   "metadata": {},
   "outputs": [],
   "source": [
    "x_train_seq = pad_sequences(token_list_train, maxlen=max_length)\n",
    "x_test_seq = pad_sequences(token_list_test, maxlen=max_length)"
   ]
  },
  {
   "cell_type": "code",
   "execution_count": 41,
   "id": "8be750a7",
   "metadata": {},
   "outputs": [],
   "source": [
    "x_test_seq.shape\n",
    "x_test_seq=np.asarray(x_test_seq).astype(np.float32)\n",
    "x_train_seq=np.asarray(x_train_seq).astype(np.float32)\n",
    "y_test=np.asarray(testLabels).astype(np.float32)\n",
    "y_train=np.asarray(labels).astype(np.float32)"
   ]
  },
  {
   "cell_type": "code",
   "execution_count": 117,
   "id": "7927b358",
   "metadata": {},
   "outputs": [],
   "source": [
    "embedding_matrix = np.zeros((num_words, max_length))\n",
    "for word, i in tokenizer.word_index.items():\n",
    "    if word in word2vec_vectors:\n",
    "        embedding_vector = word2vec[word]\n",
    "        embedding_matrix[i] = embedding_vector"
   ]
  },
  {
   "cell_type": "code",
   "execution_count": 101,
   "id": "b0cdf820",
   "metadata": {},
   "outputs": [],
   "source": [
    "embedding_matrix = np.zeros((num_words, max_length))\n",
    "for word, i in tokenizer.word_index.items():\n",
    "    if word in glove_vectors:\n",
    "        embedding_vector = glove[word]\n",
    "        embedding_matrix[i] = embedding_vector"
   ]
  },
  {
   "cell_type": "code",
   "execution_count": 48,
   "id": "96012080",
   "metadata": {},
   "outputs": [
    {
     "data": {
      "text/plain": [
       "(1000, 300)"
      ]
     },
     "execution_count": 48,
     "metadata": {},
     "output_type": "execute_result"
    }
   ],
   "source": [
    "x_train_seq.shape"
   ]
  },
  {
   "cell_type": "markdown",
   "id": "3c9ef4f5",
   "metadata": {},
   "source": [
    "## Sequence MLP Embedding"
   ]
  },
  {
   "cell_type": "code",
   "execution_count": 105,
   "id": "727cdcac",
   "metadata": {
    "scrolled": true
   },
   "outputs": [
    {
     "name": "stdout",
     "output_type": "stream",
     "text": [
      "Epoch 1/50\n",
      "32/32 [==============================] - 3s 89ms/step - loss: 14.9162 - mse: 2.0616 - mae: 0.9780 - val_loss: 9.2577 - val_mse: 0.7872 - val_mae: 0.7475\n",
      "Epoch 2/50\n",
      "32/32 [==============================] - 3s 90ms/step - loss: 7.0946 - mse: 0.5355 - mae: 0.5680 - val_loss: 5.7239 - val_mse: 0.7917 - val_mae: 0.7619\n",
      "Epoch 3/50\n",
      "32/32 [==============================] - 3s 85ms/step - loss: 4.3991 - mse: 0.3117 - mae: 0.4514 - val_loss: 4.0736 - val_mse: 0.7677 - val_mae: 0.7359\n",
      "Epoch 4/50\n",
      "32/32 [==============================] - 3s 85ms/step - loss: 3.1748 - mse: 0.2469 - mae: 0.3955 - val_loss: 3.4979 - val_mse: 0.8257 - val_mae: 0.7720\n",
      "Epoch 5/50\n",
      "32/32 [==============================] - 3s 85ms/step - loss: 2.7943 - mse: 0.2467 - mae: 0.3907 - val_loss: 3.1840 - val_mse: 0.8141 - val_mae: 0.7631\n",
      "Epoch 6/50\n",
      "32/32 [==============================] - 3s 85ms/step - loss: 2.4133 - mse: 0.2292 - mae: 0.3701 - val_loss: 2.9018 - val_mse: 0.8229 - val_mae: 0.7632\n",
      "Epoch 7/50\n",
      "32/32 [==============================] - 3s 89ms/step - loss: 2.1865 - mse: 0.2191 - mae: 0.3622 - val_loss: 3.0433 - val_mse: 1.0286 - val_mae: 0.8453\n",
      "Epoch 8/50\n",
      "32/32 [==============================] - 3s 86ms/step - loss: 2.2121 - mse: 0.2123 - mae: 0.3601 - val_loss: 2.5903 - val_mse: 0.7855 - val_mae: 0.7434\n",
      "Epoch 9/50\n",
      "32/32 [==============================] - 3s 83ms/step - loss: 1.8429 - mse: 0.1859 - mae: 0.3291 - val_loss: 2.3494 - val_mse: 0.8051 - val_mae: 0.7470\n",
      "Epoch 10/50\n",
      "32/32 [==============================] - 3s 84ms/step - loss: 1.6662 - mse: 0.1584 - mae: 0.3120 - val_loss: 2.4358 - val_mse: 1.0089 - val_mae: 0.8223\n",
      "Epoch 11/50\n",
      "32/32 [==============================] - 3s 84ms/step - loss: 1.6593 - mse: 0.1912 - mae: 0.3487 - val_loss: 2.3979 - val_mse: 0.9027 - val_mae: 0.7999\n",
      "Epoch 12/50\n",
      "32/32 [==============================] - 3s 89ms/step - loss: 1.7314 - mse: 0.1919 - mae: 0.3074 - val_loss: 2.2982 - val_mse: 0.7932 - val_mae: 0.7476\n",
      "Epoch 13/50\n",
      "32/32 [==============================] - 3s 84ms/step - loss: 1.7095 - mse: 0.1779 - mae: 0.3139 - val_loss: 2.2973 - val_mse: 0.8402 - val_mae: 0.7589\n",
      "Epoch 14/50\n",
      "32/32 [==============================] - 3s 84ms/step - loss: 1.7628 - mse: 0.1872 - mae: 0.3244 - val_loss: 2.3954 - val_mse: 0.7949 - val_mae: 0.7510\n",
      "Epoch 15/50\n",
      "32/32 [==============================] - 3s 83ms/step - loss: 1.8142 - mse: 0.1543 - mae: 0.2823 - val_loss: 2.3262 - val_mse: 0.8882 - val_mae: 0.7785\n",
      "Epoch 16/50\n",
      "32/32 [==============================] - 3s 83ms/step - loss: 1.4144 - mse: 0.0889 - mae: 0.2349 - val_loss: 2.0313 - val_mse: 0.8277 - val_mae: 0.7559\n",
      "Epoch 17/50\n",
      "32/32 [==============================] - 3s 84ms/step - loss: 1.3359 - mse: 0.1089 - mae: 0.2392 - val_loss: 2.1182 - val_mse: 0.8259 - val_mae: 0.7543\n",
      "Epoch 18/50\n",
      "32/32 [==============================] - 3s 86ms/step - loss: 1.5512 - mse: 0.1593 - mae: 0.3008 - val_loss: 2.3371 - val_mse: 0.9528 - val_mae: 0.8180\n",
      "Epoch 19/50\n",
      "32/32 [==============================] - 3s 88ms/step - loss: 1.4746 - mse: 0.1341 - mae: 0.2887 - val_loss: 2.0835 - val_mse: 0.8286 - val_mae: 0.7544\n",
      "Epoch 20/50\n",
      "32/32 [==============================] - 3s 85ms/step - loss: 1.3659 - mse: 0.1069 - mae: 0.2445 - val_loss: 2.0903 - val_mse: 0.8122 - val_mae: 0.7510\n",
      "Epoch 21/50\n",
      "32/32 [==============================] - 3s 80ms/step - loss: 1.3824 - mse: 0.0886 - mae: 0.2188 - val_loss: 1.9541 - val_mse: 0.7974 - val_mae: 0.7501\n",
      "Epoch 22/50\n",
      "32/32 [==============================] - 3s 83ms/step - loss: 1.1624 - mse: 0.0691 - mae: 0.2022 - val_loss: 1.8759 - val_mse: 0.7897 - val_mae: 0.7408\n",
      "Epoch 23/50\n",
      "32/32 [==============================] - 3s 89ms/step - loss: 1.2014 - mse: 0.0785 - mae: 0.2219 - val_loss: 1.8827 - val_mse: 0.7968 - val_mae: 0.7368\n",
      "Epoch 24/50\n",
      "32/32 [==============================] - 3s 87ms/step - loss: 1.2194 - mse: 0.0845 - mae: 0.2240 - val_loss: 1.9524 - val_mse: 0.8585 - val_mae: 0.7652\n",
      "Epoch 25/50\n",
      "32/32 [==============================] - 3s 88ms/step - loss: 1.4338 - mse: 0.1341 - mae: 0.2809 - val_loss: 2.1646 - val_mse: 0.8561 - val_mae: 0.7737\n",
      "Epoch 26/50\n",
      "32/32 [==============================] - 3s 84ms/step - loss: 1.4098 - mse: 0.1404 - mae: 0.2900 - val_loss: 2.0079 - val_mse: 0.8058 - val_mae: 0.7443\n",
      "Epoch 27/50\n",
      "32/32 [==============================] - 3s 83ms/step - loss: 1.2936 - mse: 0.1082 - mae: 0.2501 - val_loss: 2.0574 - val_mse: 0.9141 - val_mae: 0.7836\n",
      "Epoch 28/50\n",
      "32/32 [==============================] - 3s 87ms/step - loss: 1.2802 - mse: 0.0993 - mae: 0.2404 - val_loss: 1.9440 - val_mse: 0.8132 - val_mae: 0.7518\n",
      "Epoch 29/50\n",
      "32/32 [==============================] - 3s 101ms/step - loss: 1.3828 - mse: 0.1202 - mae: 0.2521 - val_loss: 2.0169 - val_mse: 0.8034 - val_mae: 0.7462\n",
      "Epoch 30/50\n",
      "32/32 [==============================] - 3s 89ms/step - loss: 1.2534 - mse: 0.0950 - mae: 0.2341 - val_loss: 1.9357 - val_mse: 0.8085 - val_mae: 0.7492\n",
      "Epoch 31/50\n",
      "32/32 [==============================] - 3s 87ms/step - loss: 1.2068 - mse: 0.0914 - mae: 0.2261 - val_loss: 1.8835 - val_mse: 0.8001 - val_mae: 0.7457\n",
      "Epoch 32/50\n",
      "32/32 [==============================] - 3s 83ms/step - loss: 1.1743 - mse: 0.0823 - mae: 0.2176 - val_loss: 1.8849 - val_mse: 0.8005 - val_mae: 0.7439\n",
      "Epoch 33/50\n",
      "32/32 [==============================] - 3s 85ms/step - loss: 1.2116 - mse: 0.0752 - mae: 0.2046 - val_loss: 1.8903 - val_mse: 0.8108 - val_mae: 0.7502\n",
      "Epoch 34/50\n",
      "32/32 [==============================] - 3s 87ms/step - loss: 1.2248 - mse: 0.0684 - mae: 0.1947 - val_loss: 1.9304 - val_mse: 0.8379 - val_mae: 0.7637\n",
      "Epoch 35/50\n",
      "32/32 [==============================] - 3s 94ms/step - loss: 1.1690 - mse: 0.0773 - mae: 0.2103 - val_loss: 1.8788 - val_mse: 0.8089 - val_mae: 0.7509\n",
      "Epoch 36/50\n",
      "32/32 [==============================] - 3s 94ms/step - loss: 1.2773 - mse: 0.1104 - mae: 0.2477 - val_loss: 2.1026 - val_mse: 0.8566 - val_mae: 0.7727\n",
      "Epoch 37/50\n",
      "32/32 [==============================] - 3s 85ms/step - loss: 1.4137 - mse: 0.1414 - mae: 0.2803 - val_loss: 2.1802 - val_mse: 0.8519 - val_mae: 0.7668\n",
      "Epoch 38/50\n",
      "32/32 [==============================] - 3s 87ms/step - loss: 1.5078 - mse: 0.1400 - mae: 0.2866 - val_loss: 2.2478 - val_mse: 0.8439 - val_mae: 0.7625\n",
      "Epoch 39/50\n",
      "32/32 [==============================] - 3s 83ms/step - loss: 1.3849 - mse: 0.0953 - mae: 0.2383 - val_loss: 1.9673 - val_mse: 0.8406 - val_mae: 0.7666\n",
      "Epoch 40/50\n",
      "32/32 [==============================] - 3s 88ms/step - loss: 1.2121 - mse: 0.0935 - mae: 0.2295 - val_loss: 2.0515 - val_mse: 0.8178 - val_mae: 0.7535\n",
      "Epoch 41/50\n",
      "32/32 [==============================] - 3s 88ms/step - loss: 1.3574 - mse: 0.0933 - mae: 0.2300 - val_loss: 1.9596 - val_mse: 0.8474 - val_mae: 0.7669\n",
      "Epoch 42/50\n",
      "32/32 [==============================] - 3s 88ms/step - loss: 1.1045 - mse: 0.0637 - mae: 0.1918 - val_loss: 1.8299 - val_mse: 0.8378 - val_mae: 0.7665\n",
      "Epoch 43/50\n",
      "32/32 [==============================] - 3s 84ms/step - loss: 1.1498 - mse: 0.0862 - mae: 0.2184 - val_loss: 1.9560 - val_mse: 0.8674 - val_mae: 0.7712\n",
      "Epoch 44/50\n",
      "32/32 [==============================] - 3s 82ms/step - loss: 1.2256 - mse: 0.1074 - mae: 0.2498 - val_loss: 2.0812 - val_mse: 0.8929 - val_mae: 0.7807\n",
      "Epoch 45/50\n",
      "32/32 [==============================] - 3s 81ms/step - loss: 1.3009 - mse: 0.1151 - mae: 0.2517 - val_loss: 1.9817 - val_mse: 0.8178 - val_mae: 0.7560\n",
      "Epoch 46/50\n",
      "32/32 [==============================] - 3s 89ms/step - loss: 1.2730 - mse: 0.1109 - mae: 0.2495 - val_loss: 2.0582 - val_mse: 0.8373 - val_mae: 0.7601\n",
      "Epoch 47/50\n",
      "32/32 [==============================] - 3s 85ms/step - loss: 1.2504 - mse: 0.0945 - mae: 0.2316 - val_loss: 1.9983 - val_mse: 0.8281 - val_mae: 0.7611\n",
      "Epoch 48/50\n",
      "32/32 [==============================] - 3s 82ms/step - loss: 1.3225 - mse: 0.0860 - mae: 0.2221 - val_loss: 1.9628 - val_mse: 0.8435 - val_mae: 0.7588\n",
      "Epoch 49/50\n",
      "32/32 [==============================] - 3s 84ms/step - loss: 1.2403 - mse: 0.0898 - mae: 0.2227 - val_loss: 1.9028 - val_mse: 0.8041 - val_mae: 0.7432\n",
      "Epoch 50/50\n",
      "32/32 [==============================] - 3s 84ms/step - loss: 1.2948 - mse: 0.1072 - mae: 0.2361 - val_loss: 1.9482 - val_mse: 0.8174 - val_mae: 0.7538\n"
     ]
    },
    {
     "name": "stdout",
     "output_type": "stream",
     "text": [
      "16/16 [==============================] - 1s 61ms/step - loss: 1.9482 - mse: 0.8174 - mae: 0.7538\n"
     ]
    },
    {
     "data": {
      "image/png": "[encoded data removed]",
      "text/plain": [
       "<Figure size 432x288 with 1 Axes>"
      ]
     },
     "metadata": {
      "needs_background": "light"
     },
     "output_type": "display_data"
    },
    {
     "data": {
      "image/png": "[encoded data removed]",
      "text/plain": [
       "<Figure size 432x288 with 1 Axes>"
      ]
     },
     "metadata": {
      "needs_background": "light"
     },
     "output_type": "display_data"
    },
    {
     "name": "stdout",
     "output_type": "stream",
     "text": [
      "0.8174139857292175\n",
      "0.7537603974342346\n"
     ]
    }
   ],
   "source": [
    "model_1 = Sequential()\n",
    "model_1.add(Embedding(num_words, x_train_seq.shape[1], weights=[embedding_matrix], input_length=max_length, trainable=False))\n",
    "model_1.add(Flatten())\n",
    "init_he_u = initializers.he_uniform(seed=None)\n",
    "model_1.add(Dense(64, activation='relu',kernel_initializer=init_he_u, kernel_regularizer=l1(0.001)))\n",
    "model_1.add(Dropout(0.5))\n",
    "model_1.add(Dense(32, activation='relu',kernel_initializer=init_he_u, kernel_regularizer=l1(0.001)))\n",
    "model_1.add(Dropout(0.5))\n",
    "model_1.add(Dense(1, activation='linear', kernel_initializer=init_he_u, kernel_regularizer=l1(0.001)))\n",
    "model_1.compile(loss='mean_squared_error', optimizer='adam', metrics=['mse', 'mae'])\n",
    "history = model_1.fit(x_train_seq, labels, validation_data=(x_test_seq, testLabels), epochs=50, batch_size=32, verbose=1, shuffle=True)\n",
    "\n",
    "_, mse, mae = model_1.evaluate(x_test_seq, testLabels)\n",
    "\n",
    "plt.plot(history.history['mse'])\n",
    "plt.plot(history.history['val_mse'])\n",
    "plt.title('model mse')\n",
    "plt.ylabel('MSE')\n",
    "plt.xlabel('epoch')\n",
    "plt.legend(['Train', 'Test'], loc='upper left')\n",
    "plt.show()\n",
    "\n",
    "# Plot training & validation accuracy values\n",
    "plt.plot(history.history['mae'])\n",
    "plt.plot(history.history['val_mae'])\n",
    "plt.title('model mae')\n",
    "plt.ylabel('MAE')\n",
    "plt.xlabel('Epoch')\n",
    "plt.legend(['Train', 'Test'], loc='upper left')\n",
    "plt.show()\n",
    "\n",
    "print(mse)\n",
    "print(mae)"
   ]
  },
  {
   "cell_type": "markdown",
   "id": "7e96de92",
   "metadata": {},
   "source": [
    "## CNN"
   ]
  },
  {
   "cell_type": "code",
   "execution_count": 93,
   "id": "b0fece7c",
   "metadata": {
    "scrolled": true
   },
   "outputs": [
    {
     "name": "stdout",
     "output_type": "stream",
     "text": [
      "Epoch 1/50\n",
      "32/32 - 27s - loss: 31.3256 - mse: 3.6856 - mae: 1.4978 - val_loss: 22.8283 - val_mse: 2.2622 - val_mae: 1.2555\n",
      "Epoch 2/50\n"
     ]
    },
    {
     "ename": "KeyboardInterrupt",
     "evalue": "",
     "output_type": "error",
     "traceback": [
      "\u001b[1;31m---------------------------------------------------------------------------\u001b[0m",
      "\u001b[1;31mKeyboardInterrupt\u001b[0m                         Traceback (most recent call last)",
      "\u001b[1;32m<ipython-input-93-0f06d19cc643>\u001b[0m in \u001b[0;36m<module>\u001b[1;34m\u001b[0m\n\u001b[0;32m     11\u001b[0m \u001b[0mcnn_1\u001b[0m\u001b[1;33m.\u001b[0m\u001b[0madd\u001b[0m\u001b[1;33m(\u001b[0m\u001b[0mDense\u001b[0m\u001b[1;33m(\u001b[0m\u001b[1;36m1\u001b[0m\u001b[1;33m,\u001b[0m \u001b[0mactivation\u001b[0m\u001b[1;33m=\u001b[0m\u001b[1;34m'linear'\u001b[0m\u001b[1;33m,\u001b[0m \u001b[0mkernel_initializer\u001b[0m\u001b[1;33m=\u001b[0m\u001b[0minit_he_u\u001b[0m\u001b[1;33m,\u001b[0m \u001b[0mkernel_regularizer\u001b[0m\u001b[1;33m=\u001b[0m\u001b[0ml1\u001b[0m\u001b[1;33m(\u001b[0m\u001b[1;36m0.001\u001b[0m\u001b[1;33m)\u001b[0m\u001b[1;33m)\u001b[0m\u001b[1;33m)\u001b[0m\u001b[1;33m\u001b[0m\u001b[1;33m\u001b[0m\u001b[0m\n\u001b[0;32m     12\u001b[0m \u001b[0mcnn_1\u001b[0m\u001b[1;33m.\u001b[0m\u001b[0mcompile\u001b[0m\u001b[1;33m(\u001b[0m\u001b[0mloss\u001b[0m\u001b[1;33m=\u001b[0m\u001b[1;34m'mean_squared_error'\u001b[0m\u001b[1;33m,\u001b[0m \u001b[0moptimizer\u001b[0m\u001b[1;33m=\u001b[0m\u001b[1;34m'adam'\u001b[0m\u001b[1;33m,\u001b[0m \u001b[0mmetrics\u001b[0m\u001b[1;33m=\u001b[0m\u001b[1;33m[\u001b[0m\u001b[1;34m'mse'\u001b[0m\u001b[1;33m,\u001b[0m \u001b[1;34m'mae'\u001b[0m\u001b[1;33m]\u001b[0m\u001b[1;33m)\u001b[0m\u001b[1;33m\u001b[0m\u001b[1;33m\u001b[0m\u001b[0m\n\u001b[1;32m---> 13\u001b[1;33m \u001b[0mhistory\u001b[0m \u001b[1;33m=\u001b[0m \u001b[0mcnn_1\u001b[0m\u001b[1;33m.\u001b[0m\u001b[0mfit\u001b[0m\u001b[1;33m(\u001b[0m\u001b[0mx_train_seq\u001b[0m\u001b[1;33m,\u001b[0m \u001b[0mlabels\u001b[0m\u001b[1;33m,\u001b[0m \u001b[0mvalidation_data\u001b[0m\u001b[1;33m=\u001b[0m\u001b[1;33m(\u001b[0m\u001b[0mx_test_seq\u001b[0m\u001b[1;33m,\u001b[0m \u001b[0mtestLabels\u001b[0m\u001b[1;33m)\u001b[0m\u001b[1;33m,\u001b[0m \u001b[0mepochs\u001b[0m\u001b[1;33m=\u001b[0m\u001b[1;36m50\u001b[0m\u001b[1;33m,\u001b[0m \u001b[0mbatch_size\u001b[0m\u001b[1;33m=\u001b[0m\u001b[1;36m32\u001b[0m\u001b[1;33m,\u001b[0m \u001b[0mverbose\u001b[0m\u001b[1;33m=\u001b[0m\u001b[1;36m2\u001b[0m\u001b[1;33m,\u001b[0m \u001b[0mshuffle\u001b[0m\u001b[1;33m=\u001b[0m\u001b[1;32mTrue\u001b[0m\u001b[1;33m)\u001b[0m\u001b[1;33m\u001b[0m\u001b[1;33m\u001b[0m\u001b[0m\n\u001b[0m\u001b[0;32m     14\u001b[0m \u001b[1;33m\u001b[0m\u001b[0m\n\u001b[0;32m     15\u001b[0m \u001b[0m_\u001b[0m\u001b[1;33m,\u001b[0m \u001b[0mmse\u001b[0m\u001b[1;33m,\u001b[0m \u001b[0mmae\u001b[0m \u001b[1;33m=\u001b[0m \u001b[0mcnn_1\u001b[0m\u001b[1;33m.\u001b[0m\u001b[0mevaluate\u001b[0m\u001b[1;33m(\u001b[0m\u001b[0mx_test_seq\u001b[0m\u001b[1;33m,\u001b[0m \u001b[0mtestLabels\u001b[0m\u001b[1;33m)\u001b[0m\u001b[1;33m\u001b[0m\u001b[1;33m\u001b[0m\u001b[0m\n",
      "\u001b[1;32m~\\anaconda3\\lib\\site-packages\\tensorflow\\python\\keras\\engine\\training.py\u001b[0m in \u001b[0;36m_method_wrapper\u001b[1;34m(self, *args, **kwargs)\u001b[0m\n\u001b[0;32m    106\u001b[0m   \u001b[1;32mdef\u001b[0m \u001b[0m_method_wrapper\u001b[0m\u001b[1;33m(\u001b[0m\u001b[0mself\u001b[0m\u001b[1;33m,\u001b[0m \u001b[1;33m*\u001b[0m\u001b[0margs\u001b[0m\u001b[1;33m,\u001b[0m \u001b[1;33m**\u001b[0m\u001b[0mkwargs\u001b[0m\u001b[1;33m)\u001b[0m\u001b[1;33m:\u001b[0m\u001b[1;33m\u001b[0m\u001b[1;33m\u001b[0m\u001b[0m\n\u001b[0;32m    107\u001b[0m     \u001b[1;32mif\u001b[0m \u001b[1;32mnot\u001b[0m \u001b[0mself\u001b[0m\u001b[1;33m.\u001b[0m\u001b[0m_in_multi_worker_mode\u001b[0m\u001b[1;33m(\u001b[0m\u001b[1;33m)\u001b[0m\u001b[1;33m:\u001b[0m  \u001b[1;31m# pylint: disable=protected-access\u001b[0m\u001b[1;33m\u001b[0m\u001b[1;33m\u001b[0m\u001b[0m\n\u001b[1;32m--> 108\u001b[1;33m       \u001b[1;32mreturn\u001b[0m \u001b[0mmethod\u001b[0m\u001b[1;33m(\u001b[0m\u001b[0mself\u001b[0m\u001b[1;33m,\u001b[0m \u001b[1;33m*\u001b[0m\u001b[0margs\u001b[0m\u001b[1;33m,\u001b[0m \u001b[1;33m**\u001b[0m\u001b[0mkwargs\u001b[0m\u001b[1;33m)\u001b[0m\u001b[1;33m\u001b[0m\u001b[1;33m\u001b[0m\u001b[0m\n\u001b[0m\u001b[0;32m    109\u001b[0m \u001b[1;33m\u001b[0m\u001b[0m\n\u001b[0;32m    110\u001b[0m     \u001b[1;31m# Running inside `run_distribute_coordinator` already.\u001b[0m\u001b[1;33m\u001b[0m\u001b[1;33m\u001b[0m\u001b[1;33m\u001b[0m\u001b[0m\n",
      "\u001b[1;32m~\\anaconda3\\lib\\site-packages\\tensorflow\\python\\keras\\engine\\training.py\u001b[0m in \u001b[0;36mfit\u001b[1;34m(self, x, y, batch_size, epochs, verbose, callbacks, validation_split, validation_data, shuffle, class_weight, sample_weight, initial_epoch, steps_per_epoch, validation_steps, validation_batch_size, validation_freq, max_queue_size, workers, use_multiprocessing)\u001b[0m\n\u001b[0;32m   1096\u001b[0m                 batch_size=batch_size):\n\u001b[0;32m   1097\u001b[0m               \u001b[0mcallbacks\u001b[0m\u001b[1;33m.\u001b[0m\u001b[0mon_train_batch_begin\u001b[0m\u001b[1;33m(\u001b[0m\u001b[0mstep\u001b[0m\u001b[1;33m)\u001b[0m\u001b[1;33m\u001b[0m\u001b[1;33m\u001b[0m\u001b[0m\n\u001b[1;32m-> 1098\u001b[1;33m               \u001b[0mtmp_logs\u001b[0m \u001b[1;33m=\u001b[0m \u001b[0mtrain_function\u001b[0m\u001b[1;33m(\u001b[0m\u001b[0miterator\u001b[0m\u001b[1;33m)\u001b[0m\u001b[1;33m\u001b[0m\u001b[1;33m\u001b[0m\u001b[0m\n\u001b[0m\u001b[0;32m   1099\u001b[0m               \u001b[1;32mif\u001b[0m \u001b[0mdata_handler\u001b[0m\u001b[1;33m.\u001b[0m\u001b[0mshould_sync\u001b[0m\u001b[1;33m:\u001b[0m\u001b[1;33m\u001b[0m\u001b[1;33m\u001b[0m\u001b[0m\n\u001b[0;32m   1100\u001b[0m                 \u001b[0mcontext\u001b[0m\u001b[1;33m.\u001b[0m\u001b[0masync_wait\u001b[0m\u001b[1;33m(\u001b[0m\u001b[1;33m)\u001b[0m\u001b[1;33m\u001b[0m\u001b[1;33m\u001b[0m\u001b[0m\n",
      "\u001b[1;32m~\\anaconda3\\lib\\site-packages\\tensorflow\\python\\eager\\def_function.py\u001b[0m in \u001b[0;36m__call__\u001b[1;34m(self, *args, **kwds)\u001b[0m\n\u001b[0;32m    778\u001b[0m       \u001b[1;32melse\u001b[0m\u001b[1;33m:\u001b[0m\u001b[1;33m\u001b[0m\u001b[1;33m\u001b[0m\u001b[0m\n\u001b[0;32m    779\u001b[0m         \u001b[0mcompiler\u001b[0m \u001b[1;33m=\u001b[0m \u001b[1;34m\"nonXla\"\u001b[0m\u001b[1;33m\u001b[0m\u001b[1;33m\u001b[0m\u001b[0m\n\u001b[1;32m--> 780\u001b[1;33m         \u001b[0mresult\u001b[0m \u001b[1;33m=\u001b[0m \u001b[0mself\u001b[0m\u001b[1;33m.\u001b[0m\u001b[0m_call\u001b[0m\u001b[1;33m(\u001b[0m\u001b[1;33m*\u001b[0m\u001b[0margs\u001b[0m\u001b[1;33m,\u001b[0m \u001b[1;33m**\u001b[0m\u001b[0mkwds\u001b[0m\u001b[1;33m)\u001b[0m\u001b[1;33m\u001b[0m\u001b[1;33m\u001b[0m\u001b[0m\n\u001b[0m\u001b[0;32m    781\u001b[0m \u001b[1;33m\u001b[0m\u001b[0m\n\u001b[0;32m    782\u001b[0m       \u001b[0mnew_tracing_count\u001b[0m \u001b[1;33m=\u001b[0m \u001b[0mself\u001b[0m\u001b[1;33m.\u001b[0m\u001b[0m_get_tracing_count\u001b[0m\u001b[1;33m(\u001b[0m\u001b[1;33m)\u001b[0m\u001b[1;33m\u001b[0m\u001b[1;33m\u001b[0m\u001b[0m\n",
      "\u001b[1;32m~\\anaconda3\\lib\\site-packages\\tensorflow\\python\\eager\\def_function.py\u001b[0m in \u001b[0;36m_call\u001b[1;34m(self, *args, **kwds)\u001b[0m\n\u001b[0;32m    805\u001b[0m       \u001b[1;31m# In this case we have created variables on the first call, so we run the\u001b[0m\u001b[1;33m\u001b[0m\u001b[1;33m\u001b[0m\u001b[1;33m\u001b[0m\u001b[0m\n\u001b[0;32m    806\u001b[0m       \u001b[1;31m# defunned version which is guaranteed to never create variables.\u001b[0m\u001b[1;33m\u001b[0m\u001b[1;33m\u001b[0m\u001b[1;33m\u001b[0m\u001b[0m\n\u001b[1;32m--> 807\u001b[1;33m       \u001b[1;32mreturn\u001b[0m \u001b[0mself\u001b[0m\u001b[1;33m.\u001b[0m\u001b[0m_stateless_fn\u001b[0m\u001b[1;33m(\u001b[0m\u001b[1;33m*\u001b[0m\u001b[0margs\u001b[0m\u001b[1;33m,\u001b[0m \u001b[1;33m**\u001b[0m\u001b[0mkwds\u001b[0m\u001b[1;33m)\u001b[0m  \u001b[1;31m# pylint: disable=not-callable\u001b[0m\u001b[1;33m\u001b[0m\u001b[1;33m\u001b[0m\u001b[0m\n\u001b[0m\u001b[0;32m    808\u001b[0m     \u001b[1;32melif\u001b[0m \u001b[0mself\u001b[0m\u001b[1;33m.\u001b[0m\u001b[0m_stateful_fn\u001b[0m \u001b[1;32mis\u001b[0m \u001b[1;32mnot\u001b[0m \u001b[1;32mNone\u001b[0m\u001b[1;33m:\u001b[0m\u001b[1;33m\u001b[0m\u001b[1;33m\u001b[0m\u001b[0m\n\u001b[0;32m    809\u001b[0m       \u001b[1;31m# Release the lock early so that multiple threads can perform the call\u001b[0m\u001b[1;33m\u001b[0m\u001b[1;33m\u001b[0m\u001b[1;33m\u001b[0m\u001b[0m\n",
      "\u001b[1;32m~\\anaconda3\\lib\\site-packages\\tensorflow\\python\\eager\\function.py\u001b[0m in \u001b[0;36m__call__\u001b[1;34m(self, *args, **kwargs)\u001b[0m\n\u001b[0;32m   2827\u001b[0m     \u001b[1;32mwith\u001b[0m \u001b[0mself\u001b[0m\u001b[1;33m.\u001b[0m\u001b[0m_lock\u001b[0m\u001b[1;33m:\u001b[0m\u001b[1;33m\u001b[0m\u001b[1;33m\u001b[0m\u001b[0m\n\u001b[0;32m   2828\u001b[0m       \u001b[0mgraph_function\u001b[0m\u001b[1;33m,\u001b[0m \u001b[0margs\u001b[0m\u001b[1;33m,\u001b[0m \u001b[0mkwargs\u001b[0m \u001b[1;33m=\u001b[0m \u001b[0mself\u001b[0m\u001b[1;33m.\u001b[0m\u001b[0m_maybe_define_function\u001b[0m\u001b[1;33m(\u001b[0m\u001b[0margs\u001b[0m\u001b[1;33m,\u001b[0m \u001b[0mkwargs\u001b[0m\u001b[1;33m)\u001b[0m\u001b[1;33m\u001b[0m\u001b[1;33m\u001b[0m\u001b[0m\n\u001b[1;32m-> 2829\u001b[1;33m     \u001b[1;32mreturn\u001b[0m \u001b[0mgraph_function\u001b[0m\u001b[1;33m.\u001b[0m\u001b[0m_filtered_call\u001b[0m\u001b[1;33m(\u001b[0m\u001b[0margs\u001b[0m\u001b[1;33m,\u001b[0m \u001b[0mkwargs\u001b[0m\u001b[1;33m)\u001b[0m  \u001b[1;31m# pylint: disable=protected-access\u001b[0m\u001b[1;33m\u001b[0m\u001b[1;33m\u001b[0m\u001b[0m\n\u001b[0m\u001b[0;32m   2830\u001b[0m \u001b[1;33m\u001b[0m\u001b[0m\n\u001b[0;32m   2831\u001b[0m   \u001b[1;33m@\u001b[0m\u001b[0mproperty\u001b[0m\u001b[1;33m\u001b[0m\u001b[1;33m\u001b[0m\u001b[0m\n",
      "\u001b[1;32m~\\anaconda3\\lib\\site-packages\\tensorflow\\python\\eager\\function.py\u001b[0m in \u001b[0;36m_filtered_call\u001b[1;34m(self, args, kwargs, cancellation_manager)\u001b[0m\n\u001b[0;32m   1841\u001b[0m       \u001b[0;31m`\u001b[0m\u001b[0margs\u001b[0m\u001b[0;31m`\u001b[0m \u001b[1;32mand\u001b[0m\u001b[0;31m \u001b[0m\u001b[0;31m`\u001b[0m\u001b[0mkwargs\u001b[0m\u001b[0;31m`\u001b[0m\u001b[1;33m.\u001b[0m\u001b[1;33m\u001b[0m\u001b[1;33m\u001b[0m\u001b[0m\n\u001b[0;32m   1842\u001b[0m     \"\"\"\n\u001b[1;32m-> 1843\u001b[1;33m     return self._call_flat(\n\u001b[0m\u001b[0;32m   1844\u001b[0m         [t for t in nest.flatten((args, kwargs), expand_composites=True)\n\u001b[0;32m   1845\u001b[0m          if isinstance(t, (ops.Tensor,\n",
      "\u001b[1;32m~\\anaconda3\\lib\\site-packages\\tensorflow\\python\\eager\\function.py\u001b[0m in \u001b[0;36m_call_flat\u001b[1;34m(self, args, captured_inputs, cancellation_manager)\u001b[0m\n\u001b[0;32m   1921\u001b[0m         and executing_eagerly):\n\u001b[0;32m   1922\u001b[0m       \u001b[1;31m# No tape is watching; skip to running the function.\u001b[0m\u001b[1;33m\u001b[0m\u001b[1;33m\u001b[0m\u001b[1;33m\u001b[0m\u001b[0m\n\u001b[1;32m-> 1923\u001b[1;33m       return self._build_call_outputs(self._inference_function.call(\n\u001b[0m\u001b[0;32m   1924\u001b[0m           ctx, args, cancellation_manager=cancellation_manager))\n\u001b[0;32m   1925\u001b[0m     forward_backward = self._select_forward_and_backward_functions(\n",
      "\u001b[1;32m~\\anaconda3\\lib\\site-packages\\tensorflow\\python\\eager\\function.py\u001b[0m in \u001b[0;36mcall\u001b[1;34m(self, ctx, args, cancellation_manager)\u001b[0m\n\u001b[0;32m    543\u001b[0m       \u001b[1;32mwith\u001b[0m \u001b[0m_InterpolateFunctionError\u001b[0m\u001b[1;33m(\u001b[0m\u001b[0mself\u001b[0m\u001b[1;33m)\u001b[0m\u001b[1;33m:\u001b[0m\u001b[1;33m\u001b[0m\u001b[1;33m\u001b[0m\u001b[0m\n\u001b[0;32m    544\u001b[0m         \u001b[1;32mif\u001b[0m \u001b[0mcancellation_manager\u001b[0m \u001b[1;32mis\u001b[0m \u001b[1;32mNone\u001b[0m\u001b[1;33m:\u001b[0m\u001b[1;33m\u001b[0m\u001b[1;33m\u001b[0m\u001b[0m\n\u001b[1;32m--> 545\u001b[1;33m           outputs = execute.execute(\n\u001b[0m\u001b[0;32m    546\u001b[0m               \u001b[0mstr\u001b[0m\u001b[1;33m(\u001b[0m\u001b[0mself\u001b[0m\u001b[1;33m.\u001b[0m\u001b[0msignature\u001b[0m\u001b[1;33m.\u001b[0m\u001b[0mname\u001b[0m\u001b[1;33m)\u001b[0m\u001b[1;33m,\u001b[0m\u001b[1;33m\u001b[0m\u001b[1;33m\u001b[0m\u001b[0m\n\u001b[0;32m    547\u001b[0m               \u001b[0mnum_outputs\u001b[0m\u001b[1;33m=\u001b[0m\u001b[0mself\u001b[0m\u001b[1;33m.\u001b[0m\u001b[0m_num_outputs\u001b[0m\u001b[1;33m,\u001b[0m\u001b[1;33m\u001b[0m\u001b[1;33m\u001b[0m\u001b[0m\n",
      "\u001b[1;32m~\\anaconda3\\lib\\site-packages\\tensorflow\\python\\eager\\execute.py\u001b[0m in \u001b[0;36mquick_execute\u001b[1;34m(op_name, num_outputs, inputs, attrs, ctx, name)\u001b[0m\n\u001b[0;32m     57\u001b[0m   \u001b[1;32mtry\u001b[0m\u001b[1;33m:\u001b[0m\u001b[1;33m\u001b[0m\u001b[1;33m\u001b[0m\u001b[0m\n\u001b[0;32m     58\u001b[0m     \u001b[0mctx\u001b[0m\u001b[1;33m.\u001b[0m\u001b[0mensure_initialized\u001b[0m\u001b[1;33m(\u001b[0m\u001b[1;33m)\u001b[0m\u001b[1;33m\u001b[0m\u001b[1;33m\u001b[0m\u001b[0m\n\u001b[1;32m---> 59\u001b[1;33m     tensors = pywrap_tfe.TFE_Py_Execute(ctx._handle, device_name, op_name,\n\u001b[0m\u001b[0;32m     60\u001b[0m                                         inputs, attrs, num_outputs)\n\u001b[0;32m     61\u001b[0m   \u001b[1;32mexcept\u001b[0m \u001b[0mcore\u001b[0m\u001b[1;33m.\u001b[0m\u001b[0m_NotOkStatusException\u001b[0m \u001b[1;32mas\u001b[0m \u001b[0me\u001b[0m\u001b[1;33m:\u001b[0m\u001b[1;33m\u001b[0m\u001b[1;33m\u001b[0m\u001b[0m\n",
      "\u001b[1;31mKeyboardInterrupt\u001b[0m: "
     ]
    }
   ],
   "source": [
    "cnn_1 = Sequential()\n",
    "cnn_1.add(Embedding(num_words, x_train_seq.shape[1], weights=[embedding_matrix], input_length=max_length, trainable=False))\n",
    "init_he_u = initializers.he_uniform(seed=None)\n",
    "cnn_1.add(Conv1D(128, 5, activation='relu', kernel_initializer=init_he_u, kernel_regularizer=l1(0.001)))\n",
    "cnn_1.add(GlobalMaxPooling1D())\n",
    "cnn_1.add(Dropout(0.5))\n",
    "cnn_1.add(Dense(32, activation='relu', kernel_initializer=init_he_u, kernel_regularizer=l1(0.001)))\n",
    "cnn_1.add(Dropout(0.5))\n",
    "cnn_1.add(Dense(10, activation='relu', kernel_initializer=init_he_u, kernel_regularizer=l1(0.001)))\n",
    "cnn_1.add(Flatten())\n",
    "cnn_1.add(Dense(1, activation='linear', kernel_initializer=init_he_u, kernel_regularizer=l1(0.001)))\n",
    "cnn_1.compile(loss='mean_squared_error', optimizer='adam', metrics=['mse', 'mae'])\n",
    "history = cnn_1.fit(x_train_seq, labels, validation_data=(x_test_seq, testLabels), epochs=50, batch_size=32, verbose=2, shuffle=True)\n",
    "\n",
    "_, mse, mae = cnn_1.evaluate(x_test_seq, testLabels)\n",
    "\n",
    "plt.plot(history.history['mse'])\n",
    "plt.plot(history.history['val_mse'])\n",
    "plt.title('model mse')\n",
    "plt.ylabel('MSE')\n",
    "plt.xlabel('epoch')\n",
    "plt.legend(['Train', 'Test'], loc='upper left')\n",
    "plt.show()\n",
    "\n",
    "# Plot training & validation accuracy values\n",
    "plt.plot(history.history['mae'])\n",
    "plt.plot(history.history['val_mae'])\n",
    "plt.title('model mae')\n",
    "plt.ylabel('MAE')\n",
    "plt.xlabel('Epoch')\n",
    "plt.legend(['Train', 'Test'], loc='upper left')\n",
    "plt.show()\n",
    "\n",
    "print(mse)\n",
    "print(mae)"
   ]
  },
  {
   "cell_type": "markdown",
   "id": "74f9b857",
   "metadata": {},
   "source": [
    "## RNN"
   ]
  },
  {
   "cell_type": "code",
   "execution_count": 118,
   "id": "49811ca0",
   "metadata": {
    "scrolled": true
   },
   "outputs": [
    {
     "name": "stdout",
     "output_type": "stream",
     "text": [
      "Epoch 1/50\n",
      "32/32 - 17s - loss: 4.2660 - mse: 1.8456 - mae: 1.1011 - val_loss: 3.1595 - val_mse: 0.7916 - val_mae: 0.7582\n",
      "Epoch 2/50\n",
      "32/32 - 19s - loss: 3.3953 - mse: 1.0767 - mae: 0.8489 - val_loss: 2.9794 - val_mse: 0.7167 - val_mae: 0.7221\n",
      "Epoch 3/50\n",
      "32/32 - 21s - loss: 3.0998 - mse: 0.8886 - mae: 0.7828 - val_loss: 2.8780 - val_mse: 0.7244 - val_mae: 0.7349\n",
      "Epoch 4/50\n",
      "32/32 - 21s - loss: 2.9825 - mse: 0.8801 - mae: 0.7819 - val_loss: 2.8434 - val_mse: 0.7981 - val_mae: 0.7740\n",
      "Epoch 5/50\n",
      "32/32 - 21s - loss: 2.8078 - mse: 0.8121 - mae: 0.7510 - val_loss: 2.6164 - val_mse: 0.6761 - val_mae: 0.7129\n",
      "Epoch 6/50\n",
      "32/32 - 20s - loss: 2.6644 - mse: 0.7719 - mae: 0.7349 - val_loss: 2.4856 - val_mse: 0.6454 - val_mae: 0.6945\n",
      "Epoch 7/50\n",
      "32/32 - 19s - loss: 2.4897 - mse: 0.6950 - mae: 0.6988 - val_loss: 2.3898 - val_mse: 0.6439 - val_mae: 0.6947\n",
      "Epoch 8/50\n",
      "32/32 - 21s - loss: 2.4015 - mse: 0.6975 - mae: 0.6937 - val_loss: 2.3128 - val_mse: 0.6549 - val_mae: 0.7046\n",
      "Epoch 9/50\n",
      "32/32 - 21s - loss: 2.2557 - mse: 0.6369 - mae: 0.6671 - val_loss: 2.2563 - val_mse: 0.6804 - val_mae: 0.7249\n",
      "Epoch 10/50\n",
      "32/32 - 20s - loss: 2.1639 - mse: 0.6248 - mae: 0.6527 - val_loss: 2.2211 - val_mse: 0.7228 - val_mae: 0.7440\n",
      "Epoch 11/50\n",
      "32/32 - 19s - loss: 2.0682 - mse: 0.6037 - mae: 0.6534 - val_loss: 2.0572 - val_mse: 0.6305 - val_mae: 0.6842\n",
      "Epoch 12/50\n",
      "32/32 - 18s - loss: 1.9272 - mse: 0.5331 - mae: 0.6075 - val_loss: 1.9759 - val_mse: 0.6171 - val_mae: 0.6644\n",
      "Epoch 13/50\n",
      "32/32 - 19s - loss: 1.8679 - mse: 0.5398 - mae: 0.6152 - val_loss: 1.9053 - val_mse: 0.6114 - val_mae: 0.6709\n",
      "Epoch 14/50\n",
      "32/32 - 19s - loss: 1.7391 - mse: 0.4748 - mae: 0.5705 - val_loss: 1.8627 - val_mse: 0.6309 - val_mae: 0.6885\n",
      "Epoch 15/50\n",
      "32/32 - 18s - loss: 1.6696 - mse: 0.4655 - mae: 0.5785 - val_loss: 1.7985 - val_mse: 0.6247 - val_mae: 0.6799\n",
      "Epoch 16/50\n",
      "32/32 - 18s - loss: 1.6414 - mse: 0.4931 - mae: 0.5966 - val_loss: 1.7204 - val_mse: 0.6003 - val_mae: 0.6638\n",
      "Epoch 17/50\n",
      "32/32 - 19s - loss: 1.5550 - mse: 0.4597 - mae: 0.5702 - val_loss: 1.6761 - val_mse: 0.6085 - val_mae: 0.6700\n",
      "Epoch 18/50\n",
      "32/32 - 20s - loss: 1.4943 - mse: 0.4505 - mae: 0.5662 - val_loss: 1.6039 - val_mse: 0.5859 - val_mae: 0.6524\n",
      "Epoch 19/50\n",
      "32/32 - 16s - loss: 1.4118 - mse: 0.4158 - mae: 0.5411 - val_loss: 1.5856 - val_mse: 0.6138 - val_mae: 0.6758\n",
      "Epoch 20/50\n",
      "32/32 - 16s - loss: 1.3820 - mse: 0.4305 - mae: 0.5528 - val_loss: 1.5261 - val_mse: 0.5975 - val_mae: 0.6570\n",
      "Epoch 21/50\n",
      "32/32 - 16s - loss: 1.3143 - mse: 0.4058 - mae: 0.5375 - val_loss: 1.4771 - val_mse: 0.5909 - val_mae: 0.6485\n",
      "Epoch 22/50\n",
      "32/32 - 16s - loss: 1.2669 - mse: 0.3993 - mae: 0.5439 - val_loss: 1.4628 - val_mse: 0.6156 - val_mae: 0.6713\n",
      "Epoch 23/50\n",
      "32/32 - 16s - loss: 1.2202 - mse: 0.3906 - mae: 0.5312 - val_loss: 1.4005 - val_mse: 0.5908 - val_mae: 0.6508\n",
      "Epoch 24/50\n",
      "32/32 - 16s - loss: 1.1503 - mse: 0.3577 - mae: 0.5038 - val_loss: 1.3656 - val_mse: 0.5915 - val_mae: 0.6412\n",
      "Epoch 25/50\n",
      "32/32 - 16s - loss: 1.1081 - mse: 0.3498 - mae: 0.4974 - val_loss: 1.3386 - val_mse: 0.5981 - val_mae: 0.6507\n",
      "Epoch 26/50\n",
      "32/32 - 16s - loss: 1.1042 - mse: 0.3787 - mae: 0.5188 - val_loss: 1.2919 - val_mse: 0.5835 - val_mae: 0.6409\n",
      "Epoch 27/50\n",
      "32/32 - 16s - loss: 1.0491 - mse: 0.3554 - mae: 0.5037 - val_loss: 1.2607 - val_mse: 0.5830 - val_mae: 0.6459\n",
      "Epoch 28/50\n",
      "32/32 - 16s - loss: 1.0023 - mse: 0.3367 - mae: 0.4901 - val_loss: 1.2343 - val_mse: 0.5827 - val_mae: 0.6285\n",
      "Epoch 29/50\n",
      "32/32 - 16s - loss: 0.9801 - mse: 0.3410 - mae: 0.4927 - val_loss: 1.1908 - val_mse: 0.5662 - val_mae: 0.6272\n",
      "Epoch 30/50\n",
      "32/32 - 16s - loss: 0.9299 - mse: 0.3167 - mae: 0.4734 - val_loss: 1.1906 - val_mse: 0.5913 - val_mae: 0.6430\n",
      "Epoch 31/50\n",
      "32/32 - 16s - loss: 0.9056 - mse: 0.3176 - mae: 0.4667 - val_loss: 1.1741 - val_mse: 0.5989 - val_mae: 0.6526\n",
      "Epoch 32/50\n",
      "32/32 - 16s - loss: 0.8638 - mse: 0.2981 - mae: 0.4555 - val_loss: 1.1376 - val_mse: 0.5838 - val_mae: 0.6317\n",
      "Epoch 33/50\n",
      "32/32 - 16s - loss: 0.8494 - mse: 0.3059 - mae: 0.4605 - val_loss: 1.1402 - val_mse: 0.6090 - val_mae: 0.6629\n",
      "Epoch 34/50\n",
      "32/32 - 16s - loss: 0.8181 - mse: 0.2954 - mae: 0.4597 - val_loss: 1.0837 - val_mse: 0.5717 - val_mae: 0.6216\n",
      "Epoch 35/50\n",
      "32/32 - 16s - loss: 0.7709 - mse: 0.2693 - mae: 0.4272 - val_loss: 1.0607 - val_mse: 0.5701 - val_mae: 0.6179\n",
      "Epoch 36/50\n",
      "32/32 - 16s - loss: 0.7404 - mse: 0.2582 - mae: 0.4195 - val_loss: 1.0477 - val_mse: 0.5744 - val_mae: 0.6211\n",
      "Epoch 37/50\n",
      "32/32 - 16s - loss: 0.7304 - mse: 0.2652 - mae: 0.4287 - val_loss: 1.0750 - val_mse: 0.6188 - val_mae: 0.6360\n",
      "Epoch 38/50\n",
      "32/32 - 16s - loss: 0.6914 - mse: 0.2441 - mae: 0.4113 - val_loss: 1.0030 - val_mse: 0.5649 - val_mae: 0.6066\n",
      "Epoch 39/50\n",
      "32/32 - 16s - loss: 0.6961 - mse: 0.2643 - mae: 0.4226 - val_loss: 1.0240 - val_mse: 0.5995 - val_mae: 0.6269\n",
      "Epoch 40/50\n",
      "32/32 - 16s - loss: 0.6494 - mse: 0.2332 - mae: 0.3961 - val_loss: 0.9840 - val_mse: 0.5754 - val_mae: 0.6198\n",
      "Epoch 41/50\n",
      "32/32 - 16s - loss: 0.6260 - mse: 0.2241 - mae: 0.3878 - val_loss: 1.0123 - val_mse: 0.6186 - val_mae: 0.6410\n",
      "Epoch 42/50\n",
      "32/32 - 17s - loss: 0.6306 - mse: 0.2435 - mae: 0.4039 - val_loss: 0.9550 - val_mse: 0.5757 - val_mae: 0.6215\n",
      "Epoch 43/50\n",
      "32/32 - 16s - loss: 0.5896 - mse: 0.2157 - mae: 0.3818 - val_loss: 0.9575 - val_mse: 0.5903 - val_mae: 0.6256\n",
      "Epoch 44/50\n",
      "32/32 - 16s - loss: 0.5596 - mse: 0.1979 - mae: 0.3671 - val_loss: 0.9338 - val_mse: 0.5798 - val_mae: 0.6244\n",
      "Epoch 45/50\n",
      "32/32 - 16s - loss: 0.5875 - mse: 0.2389 - mae: 0.4014 - val_loss: 0.9473 - val_mse: 0.6034 - val_mae: 0.6250\n",
      "Epoch 46/50\n",
      "32/32 - 17s - loss: 0.5441 - mse: 0.2053 - mae: 0.3791 - val_loss: 0.9067 - val_mse: 0.5749 - val_mae: 0.6096\n",
      "Epoch 47/50\n",
      "32/32 - 17s - loss: 0.5107 - mse: 0.1840 - mae: 0.3507 - val_loss: 0.8934 - val_mse: 0.5721 - val_mae: 0.6084\n",
      "Epoch 48/50\n",
      "32/32 - 16s - loss: 0.5196 - mse: 0.2020 - mae: 0.3697 - val_loss: 0.8897 - val_mse: 0.5788 - val_mae: 0.6225\n",
      "Epoch 49/50\n",
      "32/32 - 16s - loss: 0.5049 - mse: 0.1980 - mae: 0.3647 - val_loss: 0.8860 - val_mse: 0.5852 - val_mae: 0.6213\n",
      "Epoch 50/50\n",
      "32/32 - 16s - loss: 0.4768 - mse: 0.1804 - mae: 0.3485 - val_loss: 0.8613 - val_mse: 0.5706 - val_mae: 0.6152\n",
      "16/16 [==============================] - 1s 77ms/step - loss: 0.8613 - mse: 0.5706 - mae: 0.6152\n"
     ]
    },
    {
     "data": {
      "image/png": "[encoded data removed]",
      "text/plain": [
       "<Figure size 432x288 with 1 Axes>"
      ]
     },
     "metadata": {
      "needs_background": "light"
     },
     "output_type": "display_data"
    },
    {
     "data": {
      "image/png": "[encoded data removed]",
      "text/plain": [
       "<Figure size 432x288 with 1 Axes>"
      ]
     },
     "metadata": {
      "needs_background": "light"
     },
     "output_type": "display_data"
    },
    {
     "name": "stdout",
     "output_type": "stream",
     "text": [
      "0.5705522298812866\n",
      "0.6151838302612305\n"
     ]
    }
   ],
   "source": [
    "model = Sequential()\n",
    "model.add(Embedding(input_dim=num_words,\n",
    "              input_length = max_length,\n",
    "              output_dim=x_train_seq.shape[1],\n",
    "              weights=[embedding_matrix],\n",
    "              trainable=False,\n",
    "              mask_zero=True))\n",
    "\n",
    "# Recurrent layer\n",
    "init_he_u = initializers.he_uniform(seed=None)\n",
    "model.add(LSTM(64,dropout=0.2, recurrent_dropout=0.2, kernel_initializer=init_he_u))\n",
    "model.add(Dense(128, activation='relu',kernel_initializer=init_he_u, kernel_regularizer=l1(0.001)))\n",
    "model.add(Dropout(0.5))\n",
    "model.add(Dense(64, activation='relu',kernel_initializer=init_he_u, kernel_regularizer=l1(0.001)))\n",
    "model.add(Dropout(0.5))\n",
    "model.add(Dense(32, activation='relu',kernel_initializer=init_he_u, kernel_regularizer=l1(0.001)))\n",
    "model.add(Dense(1, activation='linear', kernel_regularizer=l1(0.001)))\n",
    "\n",
    "model.compile(optimizer='adam', loss='mean_squared_error', metrics=['mse', 'mae'])\n",
    "history = model.fit(x_train_seq, labels, validation_data=(x_test_seq, testLabels), epochs=50, batch_size=32, verbose=2, shuffle=True)\n",
    "\n",
    "_, mse, mae = model.evaluate(x_test_seq, testLabels)\n",
    "\n",
    "plt.plot(history.history['mse'])\n",
    "plt.plot(history.history['val_mse'])\n",
    "plt.title('model mse')\n",
    "plt.ylabel('MSE')\n",
    "plt.xlabel('epoch')\n",
    "plt.legend(['Train', 'Test'], loc='upper left')\n",
    "plt.show()\n",
    "\n",
    "# Plot training & validation accuracy values\n",
    "plt.plot(history.history['mae'])\n",
    "plt.plot(history.history['val_mae'])\n",
    "plt.title('model mae')\n",
    "plt.ylabel('MAE')\n",
    "plt.xlabel('Epoch')\n",
    "plt.legend(['Train', 'Test'], loc='upper left')\n",
    "plt.show()\n",
    "\n",
    "print(mse)\n",
    "print(mae)"
   ]
  },
  {
   "cell_type": "code",
   "execution_count": null,
   "id": "1bb32988",
   "metadata": {},
   "outputs": [],
   "source": []
  }
 ],
 "metadata": {
  "kernelspec": {
   "display_name": "Python 3",
   "language": "python",
   "name": "python3"
  },
  "language_info": {
   "codemirror_mode": {
    "name": "ipython",
    "version": 3
   },
   "file_extension": ".py",
   "mimetype": "text/x-python",
   "name": "python",
   "nbconvert_exporter": "python",
   "pygments_lexer": "ipython3",
   "version": "3.8.8"
  }
 },
 "nbformat": 4,
 "nbformat_minor": 5
}
