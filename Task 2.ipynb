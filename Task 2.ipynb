{
 "cells": [
  {
   "cell_type": "markdown",
   "id": "fd00ed8d",
   "metadata": {},
   "source": [
    "## Import Data"
   ]
  },
  {
   "cell_type": "code",
   "execution_count": 131,
   "id": "890aa329",
   "metadata": {},
   "outputs": [],
   "source": [
    "import pandas as pd\n",
    "import numpy as np\n",
    "from sklearn.model_selection import train_test_split\n",
    "\n",
    "df = pd.read_csv('traindrug.csv',encoding = \"ISO-8859-1\")\n",
    "data = df.values[:, 0]\n",
    "labels = df.values[:, 1]\n",
    "\n",
    "testDf = pd.read_csv('testdrug.csv')\n",
    "testData = testDf.values[:, 0]\n",
    "testLabels = testDf.values[:, 1]"
   ]
  },
  {
   "cell_type": "markdown",
   "id": "62808ca7",
   "metadata": {},
   "source": [
    "## Word2Vec and GloVe"
   ]
  },
  {
   "cell_type": "code",
   "execution_count": 92,
   "id": "c5f91eb1",
   "metadata": {},
   "outputs": [
    {
     "name": "stderr",
     "output_type": "stream",
     "text": [
      "<ipython-input-92-668db1155db1>:6: DeprecationWarning: Call to deprecated `wv` (Attribute will be removed in 4.0.0, use self instead).\n",
      "  word2vec_vectors = word2vec.wv\n",
      "<ipython-input-92-668db1155db1>:10: DeprecationWarning: Call to deprecated `wv` (Attribute will be removed in 4.0.0, use self instead).\n",
      "  glove_vectors = glove.wv\n"
     ]
    }
   ],
   "source": [
    "from gensim.models import KeyedVectors\n",
    "import re\n",
    "\n",
    "file = 'GoogleNews-vectors-negative300.bin'\n",
    "word2vec = KeyedVectors.load_word2vec_format(file, binary=True, limit=50000)\n",
    "word2vec_vectors = word2vec.wv\n",
    "\n",
    "gloveFile = 'glove.6B.300d.txt.word2vec'\n",
    "glove = KeyedVectors.load_word2vec_format(gloveFile, binary=False, limit=50000)\n",
    "glove_vectors = glove.wv"
   ]
  },
  {
   "cell_type": "code",
   "execution_count": 93,
   "id": "bddfe2e4",
   "metadata": {},
   "outputs": [],
   "source": [
    "def text2vec(list):\n",
    "    vectors = []\n",
    "    for row in list:\n",
    "        tokens = [w.lower() for w in re.sub(r'[^\\w\\s]','',row).split(' ')]\n",
    "        temp = []\n",
    "        for token in tokens:\n",
    "            if token in word2vec_vectors:\n",
    "                temp.append(word2vec[token])\n",
    "        vectors.append(np.mean(temp, axis=0))\n",
    "    return np.asarray(vectors)"
   ]
  },
  {
   "cell_type": "markdown",
   "id": "3162931f",
   "metadata": {},
   "source": [
    "## Keras Imports"
   ]
  },
  {
   "cell_type": "code",
   "execution_count": 95,
   "id": "431ccbe6",
   "metadata": {},
   "outputs": [],
   "source": [
    "from keras.models import Sequential\n",
    "from keras.layers import Dense, Flatten, Conv1D, GlobalMaxPooling1D, Dropout, Embedding, LSTM\n",
    "from keras import optimizers\n",
    "from keras.layers.embeddings import Embedding\n",
    "from keras import initializers\n",
    "from keras.regularizers import l1\n",
    "import tensorflow\n",
    "import matplotlib.pyplot as plt\n",
    "\n",
    "tensorflow.random.set_seed(0)\n",
    "np.random.seed(0)"
   ]
  },
  {
   "cell_type": "code",
   "execution_count": 132,
   "id": "446cfd75",
   "metadata": {},
   "outputs": [],
   "source": [
    "testLabels = np.asarray(testLabels).astype(np.float32)\n",
    "labels = np.asarray(labels).astype(np.float32)"
   ]
  },
  {
   "cell_type": "markdown",
   "id": "c9d47575",
   "metadata": {},
   "source": [
    "## Tokenization for Sequences"
   ]
  },
  {
   "cell_type": "code",
   "execution_count": 97,
   "id": "9eea91e9",
   "metadata": {},
   "outputs": [],
   "source": [
    "from keras.preprocessing.text import Tokenizer\n",
    "from keras.preprocessing.sequence import pad_sequences\n",
    "tokenizer = Tokenizer(num_words=None, filters='!\"#$%&()*+,-./:;<=>?@[\\\\]^_`{|}~\\t\\n', lower=True,split=' ')\n",
    "tokenizer.fit_on_texts(data)\n",
    "token_list_train = tokenizer.texts_to_sequences(data)\n",
    "token_list_test = tokenizer.texts_to_sequences(testData)\n",
    "num_words = len(tokenizer.word_index)+1"
   ]
  },
  {
   "cell_type": "code",
   "execution_count": 98,
   "id": "48489f68",
   "metadata": {},
   "outputs": [],
   "source": [
    "length = []\n",
    "for x in data:\n",
    "    length.append(len(x.split()))\n",
    "max_length = max(length)"
   ]
  },
  {
   "cell_type": "code",
   "execution_count": 99,
   "id": "3f05ac2b",
   "metadata": {},
   "outputs": [],
   "source": [
    "x_train_seq = pad_sequences(token_list_train, maxlen=max_length)\n",
    "x_test_seq = pad_sequences(token_list_test, maxlen=max_length)"
   ]
  },
  {
   "cell_type": "code",
   "execution_count": 100,
   "id": "8be750a7",
   "metadata": {},
   "outputs": [],
   "source": [
    "x_test_seq.shape\n",
    "x_test_seq=np.asarray(x_test_seq).astype(np.float32)\n",
    "x_train_seq=np.asarray(x_train_seq).astype(np.float32)\n",
    "y_test=np.asarray(testLabels).astype(np.float32)\n",
    "y_train=np.asarray(labels).astype(np.float32)"
   ]
  },
  {
   "cell_type": "code",
   "execution_count": 101,
   "id": "7927b358",
   "metadata": {},
   "outputs": [],
   "source": [
    "embedding_matrix = np.zeros((num_words, 300))\n",
    "for word, i in tokenizer.word_index.items():\n",
    "    if word in word2vec_vectors:\n",
    "        embedding_vector = word2vec[word]\n",
    "        embedding_matrix[i] = embedding_vector"
   ]
  },
  {
   "cell_type": "code",
   "execution_count": 137,
   "id": "d60fb503",
   "metadata": {
    "scrolled": true
   },
   "outputs": [
    {
     "name": "stdout",
     "output_type": "stream",
     "text": [
      "Epoch 1/50\n",
      "32/32 - 2s - loss: 9.1591 - mse: 2.7347 - mae: 1.3606 - val_loss: 7.2796 - val_mse: 1.0835 - val_mae: 0.8701\n",
      "Epoch 2/50\n",
      "32/32 - 2s - loss: 7.4905 - mse: 1.5476 - mae: 1.0030 - val_loss: 6.5959 - val_mse: 0.9524 - val_mae: 0.8213\n",
      "Epoch 3/50\n",
      "32/32 - 2s - loss: 6.6500 - mse: 1.2878 - mae: 0.9134 - val_loss: 5.9217 - val_mse: 0.8780 - val_mae: 0.7914\n",
      "Epoch 4/50\n",
      "32/32 - 2s - loss: 5.8797 - mse: 1.1172 - mae: 0.8730 - val_loss: 5.3523 - val_mse: 0.9063 - val_mae: 0.8090\n",
      "Epoch 5/50\n",
      "32/32 - 2s - loss: 5.2376 - mse: 1.0651 - mae: 0.8408 - val_loss: 4.7116 - val_mse: 0.8412 - val_mae: 0.7794\n",
      "Epoch 6/50\n",
      "32/32 - 2s - loss: 4.5123 - mse: 0.8960 - mae: 0.7771 - val_loss: 4.0249 - val_mse: 0.6825 - val_mae: 0.6898\n",
      "Epoch 7/50\n",
      "32/32 - 2s - loss: 4.0367 - mse: 0.9181 - mae: 0.7803 - val_loss: 3.5364 - val_mse: 0.6604 - val_mae: 0.6832\n",
      "Epoch 8/50\n",
      "32/32 - 2s - loss: 3.4680 - mse: 0.7880 - mae: 0.7189 - val_loss: 3.1583 - val_mse: 0.6831 - val_mae: 0.7030\n",
      "Epoch 9/50\n",
      "32/32 - 2s - loss: 3.0431 - mse: 0.7200 - mae: 0.6898 - val_loss: 2.7234 - val_mse: 0.5786 - val_mae: 0.6450\n",
      "Epoch 10/50\n",
      "32/32 - 3s - loss: 2.6598 - mse: 0.6510 - mae: 0.6484 - val_loss: 2.5034 - val_mse: 0.6378 - val_mae: 0.6819\n",
      "Epoch 11/50\n",
      "32/32 - 2s - loss: 2.4537 - mse: 0.6761 - mae: 0.6686 - val_loss: 2.2412 - val_mse: 0.5664 - val_mae: 0.6374\n",
      "Epoch 12/50\n",
      "32/32 - 2s - loss: 2.2478 - mse: 0.6380 - mae: 0.6478 - val_loss: 2.0801 - val_mse: 0.5583 - val_mae: 0.6324\n",
      "Epoch 13/50\n",
      "32/32 - 3s - loss: 2.0928 - mse: 0.6141 - mae: 0.6350 - val_loss: 1.9773 - val_mse: 0.5704 - val_mae: 0.6411\n",
      "Epoch 14/50\n",
      "32/32 - 2s - loss: 1.9310 - mse: 0.5821 - mae: 0.6197 - val_loss: 1.8377 - val_mse: 0.5529 - val_mae: 0.6344\n",
      "Epoch 15/50\n",
      "32/32 - 2s - loss: 1.7424 - mse: 0.5082 - mae: 0.5807 - val_loss: 1.6965 - val_mse: 0.5211 - val_mae: 0.6119\n",
      "Epoch 16/50\n",
      "32/32 - 2s - loss: 1.6622 - mse: 0.5086 - mae: 0.5829 - val_loss: 1.6451 - val_mse: 0.5221 - val_mae: 0.6139\n",
      "Epoch 17/50\n",
      "32/32 - 2s - loss: 1.6088 - mse: 0.4954 - mae: 0.5709 - val_loss: 1.6481 - val_mse: 0.5613 - val_mae: 0.6344\n",
      "Epoch 18/50\n",
      "32/32 - 2s - loss: 1.5374 - mse: 0.4767 - mae: 0.5593 - val_loss: 1.5500 - val_mse: 0.5250 - val_mae: 0.6150\n",
      "Epoch 19/50\n",
      "32/32 - 2s - loss: 1.4820 - mse: 0.4751 - mae: 0.5618 - val_loss: 1.5107 - val_mse: 0.5187 - val_mae: 0.6126\n",
      "Epoch 20/50\n",
      "32/32 - 2s - loss: 1.4455 - mse: 0.4598 - mae: 0.5486 - val_loss: 1.4754 - val_mse: 0.5048 - val_mae: 0.6032\n",
      "Epoch 21/50\n",
      "32/32 - 2s - loss: 1.4293 - mse: 0.4554 - mae: 0.5403 - val_loss: 1.4480 - val_mse: 0.4924 - val_mae: 0.5957\n",
      "Epoch 22/50\n",
      "32/32 - 2s - loss: 1.3686 - mse: 0.4162 - mae: 0.5291 - val_loss: 1.4223 - val_mse: 0.4887 - val_mae: 0.5882\n",
      "Epoch 23/50\n",
      "32/32 - 3s - loss: 1.3726 - mse: 0.4475 - mae: 0.5379 - val_loss: 1.3973 - val_mse: 0.4903 - val_mae: 0.5930\n",
      "Epoch 24/50\n",
      "32/32 - 2s - loss: 1.3318 - mse: 0.4319 - mae: 0.5301 - val_loss: 1.3905 - val_mse: 0.5077 - val_mae: 0.6044\n",
      "Epoch 25/50\n",
      "32/32 - 2s - loss: 1.2864 - mse: 0.4164 - mae: 0.5271 - val_loss: 1.3713 - val_mse: 0.5236 - val_mae: 0.6146\n",
      "Epoch 26/50\n",
      "32/32 - 2s - loss: 1.2237 - mse: 0.3854 - mae: 0.5093 - val_loss: 1.2954 - val_mse: 0.4736 - val_mae: 0.5798\n",
      "Epoch 27/50\n",
      "32/32 - 2s - loss: 1.2271 - mse: 0.4116 - mae: 0.5198 - val_loss: 1.2997 - val_mse: 0.5006 - val_mae: 0.5999\n",
      "Epoch 28/50\n",
      "32/32 - 2s - loss: 1.1595 - mse: 0.3689 - mae: 0.4957 - val_loss: 1.2629 - val_mse: 0.4879 - val_mae: 0.5948\n",
      "Epoch 29/50\n",
      "32/32 - 2s - loss: 1.1442 - mse: 0.3694 - mae: 0.5019 - val_loss: 1.2729 - val_mse: 0.5080 - val_mae: 0.6036\n",
      "Epoch 30/50\n",
      "32/32 - 3s - loss: 1.1105 - mse: 0.3394 - mae: 0.4779 - val_loss: 1.2508 - val_mse: 0.4943 - val_mae: 0.5935\n",
      "Epoch 31/50\n",
      "32/32 - 2s - loss: 1.1213 - mse: 0.3721 - mae: 0.4925 - val_loss: 1.2285 - val_mse: 0.4843 - val_mae: 0.5934\n",
      "Epoch 32/50\n",
      "32/32 - 2s - loss: 1.0551 - mse: 0.3280 - mae: 0.4695 - val_loss: 1.1694 - val_mse: 0.4609 - val_mae: 0.5735\n",
      "Epoch 33/50\n",
      "32/32 - 2s - loss: 1.0421 - mse: 0.3292 - mae: 0.4706 - val_loss: 1.1949 - val_mse: 0.4935 - val_mae: 0.5938\n",
      "Epoch 34/50\n",
      "32/32 - 3s - loss: 1.0210 - mse: 0.3335 - mae: 0.4754 - val_loss: 1.1420 - val_mse: 0.4682 - val_mae: 0.5749\n",
      "Epoch 35/50\n",
      "32/32 - 2s - loss: 0.9777 - mse: 0.3057 - mae: 0.4487 - val_loss: 1.1212 - val_mse: 0.4623 - val_mae: 0.5723\n",
      "Epoch 36/50\n",
      "32/32 - 2s - loss: 0.9601 - mse: 0.3074 - mae: 0.4511 - val_loss: 1.1964 - val_mse: 0.5542 - val_mae: 0.6323\n",
      "Epoch 37/50\n",
      "32/32 - 2s - loss: 0.9494 - mse: 0.3061 - mae: 0.4540 - val_loss: 1.1226 - val_mse: 0.4841 - val_mae: 0.5861\n",
      "Epoch 38/50\n",
      "32/32 - 2s - loss: 0.9224 - mse: 0.2913 - mae: 0.4395 - val_loss: 1.0797 - val_mse: 0.4572 - val_mae: 0.5710\n",
      "Epoch 39/50\n",
      "32/32 - 2s - loss: 0.9193 - mse: 0.2981 - mae: 0.4436 - val_loss: 1.0864 - val_mse: 0.4747 - val_mae: 0.5789\n",
      "Epoch 40/50\n",
      "32/32 - 2s - loss: 0.8817 - mse: 0.2771 - mae: 0.4281 - val_loss: 1.0495 - val_mse: 0.4546 - val_mae: 0.5627\n",
      "Epoch 41/50\n",
      "32/32 - 2s - loss: 0.9024 - mse: 0.3027 - mae: 0.4450 - val_loss: 1.0712 - val_mse: 0.4672 - val_mae: 0.5708\n",
      "Epoch 42/50\n",
      "32/32 - 2s - loss: 0.9178 - mse: 0.3122 - mae: 0.4581 - val_loss: 1.0868 - val_mse: 0.4842 - val_mae: 0.5867\n",
      "Epoch 43/50\n",
      "32/32 - 2s - loss: 0.8923 - mse: 0.2999 - mae: 0.4400 - val_loss: 1.0577 - val_mse: 0.4768 - val_mae: 0.5836\n",
      "Epoch 44/50\n",
      "32/32 - 2s - loss: 0.8569 - mse: 0.2823 - mae: 0.4379 - val_loss: 1.0387 - val_mse: 0.4740 - val_mae: 0.5805\n",
      "Epoch 45/50\n",
      "32/32 - 2s - loss: 0.8794 - mse: 0.3041 - mae: 0.4499 - val_loss: 1.0582 - val_mse: 0.4842 - val_mae: 0.5904\n",
      "Epoch 46/50\n",
      "32/32 - 2s - loss: 0.8717 - mse: 0.3050 - mae: 0.4509 - val_loss: 1.0110 - val_mse: 0.4554 - val_mae: 0.5666\n",
      "Epoch 47/50\n",
      "32/32 - 2s - loss: 0.8197 - mse: 0.2718 - mae: 0.4240 - val_loss: 0.9881 - val_mse: 0.4478 - val_mae: 0.5596\n",
      "Epoch 48/50\n",
      "32/32 - 2s - loss: 0.8107 - mse: 0.2743 - mae: 0.4258 - val_loss: 1.0030 - val_mse: 0.4690 - val_mae: 0.5743\n",
      "Epoch 49/50\n",
      "32/32 - 2s - loss: 0.8157 - mse: 0.2799 - mae: 0.4330 - val_loss: 0.9900 - val_mse: 0.4589 - val_mae: 0.5697\n",
      "Epoch 50/50\n",
      "32/32 - 2s - loss: 0.8178 - mse: 0.2872 - mae: 0.4496 - val_loss: 0.9866 - val_mse: 0.4632 - val_mae: 0.5694\n",
      "16/16 [==============================] - 0s 18ms/step - loss: 0.9866 - mse: 0.4632 - mae: 0.5694\n"
     ]
    },
    {
     "data": {
      "image/png": "[encoded data removed]",
      "text/plain": [
       "<Figure size 432x288 with 1 Axes>"
      ]
     },
     "metadata": {
      "needs_background": "light"
     },
     "output_type": "display_data"
    },
    {
     "data": {
      "image/png": "[encoded data removed]",
      "text/plain": [
       "<Figure size 432x288 with 1 Axes>"
      ]
     },
     "metadata": {
      "needs_background": "light"
     },
     "output_type": "display_data"
    },
    {
     "name": "stdout",
     "output_type": "stream",
     "text": [
      "0.46318408846855164\n",
      "0.5693535208702087\n"
     ]
    }
   ],
   "source": [
    "cnn_1 = Sequential()\n",
    "cnn_1.add(Embedding(num_words, x_train_seq.shape[1], weights=[embedding_matrix], input_length=max_length, trainable=False))\n",
    "init_he_u = initializers.he_uniform(seed=None)\n",
    "cnn_1.add(Conv1D(128, 5, activation='relu', kernel_initializer=init_he_u, kernel_regularizer=l1(0.001)))\n",
    "cnn_1.add(GlobalMaxPooling1D())\n",
    "cnn_1.add(Dropout(0.5))\n",
    "cnn_1.add(Dense(32, activation='relu', kernel_initializer=init_he_u, kernel_regularizer=l1(0.001)))\n",
    "cnn_1.add(Dropout(0.5))\n",
    "cnn_1.add(Dense(10, activation='relu', kernel_initializer=init_he_u, kernel_regularizer=l1(0.001)))\n",
    "cnn_1.add(Flatten())\n",
    "cnn_1.add(Dense(1, activation='linear', kernel_initializer=init_he_u, kernel_regularizer=l1(0.001)))\n",
    "cnn_1.compile(loss='mean_squared_error', optimizer='adam', metrics=['mse', 'mae'])\n",
    "history = cnn_1.fit(x_train_seq, labels, validation_data=(x_test_seq, testLabels), epochs=50, batch_size=32, verbose=2, shuffle=True)\n",
    "\n",
    "_, mse, mae = cnn_1.evaluate(x_test_seq, testLabels)\n",
    "\n",
    "plt.plot(history.history['mse'])\n",
    "plt.plot(history.history['val_mse'])\n",
    "plt.title('model mse')\n",
    "plt.ylabel('MSE')\n",
    "plt.xlabel('epoch')\n",
    "plt.legend(['Train', 'Test'], loc='upper left')\n",
    "plt.show()\n",
    "\n",
    "# Plot training & validation accuracy values\n",
    "plt.plot(history.history['mae'])\n",
    "plt.plot(history.history['val_mae'])\n",
    "plt.title('model mae')\n",
    "plt.ylabel('MAE')\n",
    "plt.xlabel('Epoch')\n",
    "plt.legend(['Train', 'Test'], loc='upper left')\n",
    "plt.show()\n",
    "\n",
    "print(mse)\n",
    "print(mae)"
   ]
  },
  {
   "cell_type": "code",
   "execution_count": 138,
   "id": "5ac802b3",
   "metadata": {},
   "outputs": [
    {
     "name": "stdout",
     "output_type": "stream",
     "text": [
      "Accuracy: 0.502\n"
     ]
    },
    {
     "data": {
      "image/png": "[encoded data removed]",
      "text/plain": [
       "<Figure size 432x288 with 2 Axes>"
      ]
     },
     "metadata": {
      "needs_background": "light"
     },
     "output_type": "display_data"
    }
   ],
   "source": [
    "from sklearn.metrics import accuracy_score, confusion_matrix, ConfusionMatrixDisplay\n",
    "preds = cnn_1.predict(x_test_seq)\n",
    "preds = np.around(preds)\n",
    "acc = accuracy_score(preds, testLabels)\n",
    "print('Accuracy: ' + str(acc))\n",
    "\n",
    "cm = confusion_matrix(preds, testLabels, normalize='true')\n",
    "disLabels = ['Negative', 'Neutral', 'Positive']\n",
    "dis = ConfusionMatrixDisplay(cm, display_labels=disLabels)\n",
    "dis.plot()\n",
    "plt.show()"
   ]
  },
  {
   "cell_type": "markdown",
   "id": "bfd104df",
   "metadata": {},
   "source": [
    "## Task 2.2"
   ]
  },
  {
   "cell_type": "code",
   "execution_count": 108,
   "id": "dc0822a4",
   "metadata": {},
   "outputs": [],
   "source": [
    "from keras.utils import to_categorical\n",
    "\n",
    "encTrainLabels = to_categorical(labels-1, num_classes=3)\n",
    "encTestLabels = to_categorical(testLabels-1, num_classes=3)"
   ]
  },
  {
   "cell_type": "code",
   "execution_count": 141,
   "id": "f4153e83",
   "metadata": {
    "scrolled": true
   },
   "outputs": [
    {
     "name": "stdout",
     "output_type": "stream",
     "text": [
      "Epoch 1/50\n",
      "32/32 - 2s - loss: 6.6208 - acc: 0.3330 - val_loss: 5.4013 - val_acc: 0.3380\n",
      "Epoch 2/50\n",
      "32/32 - 2s - loss: 4.4046 - acc: 0.3780 - val_loss: 3.4110 - val_acc: 0.3500\n",
      "Epoch 3/50\n",
      "32/32 - 2s - loss: 2.7594 - acc: 0.4030 - val_loss: 2.2098 - val_acc: 0.4360\n",
      "Epoch 4/50\n",
      "32/32 - 2s - loss: 1.9600 - acc: 0.3830 - val_loss: 1.7580 - val_acc: 0.3700\n",
      "Epoch 5/50\n",
      "32/32 - 2s - loss: 1.6802 - acc: 0.3850 - val_loss: 1.6274 - val_acc: 0.3860\n",
      "Epoch 6/50\n",
      "32/32 - 2s - loss: 1.5909 - acc: 0.3930 - val_loss: 1.5516 - val_acc: 0.4260\n",
      "Epoch 7/50\n",
      "32/32 - 2s - loss: 1.5364 - acc: 0.4180 - val_loss: 1.5171 - val_acc: 0.4360\n",
      "Epoch 8/50\n",
      "32/32 - 2s - loss: 1.5024 - acc: 0.4210 - val_loss: 1.4802 - val_acc: 0.4420\n",
      "Epoch 9/50\n",
      "32/32 - 2s - loss: 1.4619 - acc: 0.4330 - val_loss: 1.4408 - val_acc: 0.4620\n",
      "Epoch 10/50\n",
      "32/32 - 2s - loss: 1.4340 - acc: 0.4460 - val_loss: 1.4223 - val_acc: 0.4420\n",
      "Epoch 11/50\n",
      "32/32 - 2s - loss: 1.4051 - acc: 0.4830 - val_loss: 1.3828 - val_acc: 0.4960\n",
      "Epoch 12/50\n",
      "32/32 - 2s - loss: 1.3654 - acc: 0.5070 - val_loss: 1.3435 - val_acc: 0.5160\n",
      "Epoch 13/50\n",
      "32/32 - 2s - loss: 1.3341 - acc: 0.5000 - val_loss: 1.3192 - val_acc: 0.5300\n",
      "Epoch 14/50\n",
      "32/32 - 2s - loss: 1.3062 - acc: 0.5340 - val_loss: 1.3090 - val_acc: 0.5060\n",
      "Epoch 15/50\n",
      "32/32 - 2s - loss: 1.2661 - acc: 0.5400 - val_loss: 1.2791 - val_acc: 0.5420\n",
      "Epoch 16/50\n",
      "32/32 - 2s - loss: 1.2378 - acc: 0.5690 - val_loss: 1.2792 - val_acc: 0.5300\n",
      "Epoch 17/50\n",
      "32/32 - 2s - loss: 1.2423 - acc: 0.5600 - val_loss: 1.2666 - val_acc: 0.5140\n",
      "Epoch 18/50\n",
      "32/32 - 2s - loss: 1.1943 - acc: 0.5950 - val_loss: 1.2511 - val_acc: 0.5340\n",
      "Epoch 19/50\n",
      "32/32 - 2s - loss: 1.1865 - acc: 0.6080 - val_loss: 1.2603 - val_acc: 0.5200\n",
      "Epoch 20/50\n",
      "32/32 - 2s - loss: 1.1573 - acc: 0.6170 - val_loss: 1.2725 - val_acc: 0.5260\n",
      "Epoch 21/50\n",
      "32/32 - 2s - loss: 1.1717 - acc: 0.6060 - val_loss: 1.2724 - val_acc: 0.5420\n",
      "Epoch 22/50\n",
      "32/32 - 2s - loss: 1.1402 - acc: 0.6190 - val_loss: 1.2721 - val_acc: 0.5180\n",
      "Epoch 23/50\n",
      "32/32 - 2s - loss: 1.1151 - acc: 0.6520 - val_loss: 1.2754 - val_acc: 0.5380\n",
      "Epoch 24/50\n",
      "32/32 - 2s - loss: 1.1245 - acc: 0.6430 - val_loss: 1.3152 - val_acc: 0.5280\n",
      "Epoch 25/50\n",
      "32/32 - 2s - loss: 1.1031 - acc: 0.6760 - val_loss: 1.3071 - val_acc: 0.5280\n",
      "Epoch 26/50\n",
      "32/32 - 2s - loss: 1.0741 - acc: 0.6900 - val_loss: 1.2812 - val_acc: 0.5740\n",
      "Epoch 27/50\n",
      "32/32 - 2s - loss: 1.0776 - acc: 0.6940 - val_loss: 1.2980 - val_acc: 0.5660\n",
      "Epoch 28/50\n",
      "32/32 - 2s - loss: 1.0662 - acc: 0.6930 - val_loss: 1.2889 - val_acc: 0.5740\n",
      "Epoch 29/50\n",
      "32/32 - 2s - loss: 1.0693 - acc: 0.7030 - val_loss: 1.3151 - val_acc: 0.5620\n",
      "Epoch 30/50\n",
      "32/32 - 2s - loss: 1.0662 - acc: 0.7130 - val_loss: 1.3109 - val_acc: 0.5560\n",
      "Epoch 31/50\n",
      "32/32 - 2s - loss: 1.0478 - acc: 0.7070 - val_loss: 1.3284 - val_acc: 0.5220\n",
      "Epoch 32/50\n",
      "32/32 - 2s - loss: 1.0418 - acc: 0.7460 - val_loss: 1.3605 - val_acc: 0.5400\n",
      "Epoch 33/50\n",
      "32/32 - 2s - loss: 1.0808 - acc: 0.7230 - val_loss: 1.3305 - val_acc: 0.5840\n",
      "Epoch 34/50\n",
      "32/32 - 2s - loss: 1.0322 - acc: 0.7190 - val_loss: 1.3574 - val_acc: 0.5680\n",
      "Epoch 35/50\n",
      "32/32 - 2s - loss: 1.0281 - acc: 0.7400 - val_loss: 1.3682 - val_acc: 0.5520\n",
      "Epoch 36/50\n",
      "32/32 - 2s - loss: 1.0169 - acc: 0.7460 - val_loss: 1.3747 - val_acc: 0.5700\n",
      "Epoch 37/50\n",
      "32/32 - 2s - loss: 0.9656 - acc: 0.7890 - val_loss: 1.3782 - val_acc: 0.5480\n",
      "Epoch 38/50\n",
      "32/32 - 2s - loss: 0.9584 - acc: 0.7740 - val_loss: 1.3814 - val_acc: 0.5540\n",
      "Epoch 39/50\n",
      "32/32 - 2s - loss: 0.9774 - acc: 0.7790 - val_loss: 1.3817 - val_acc: 0.5680\n",
      "Epoch 40/50\n",
      "32/32 - 2s - loss: 0.9669 - acc: 0.7840 - val_loss: 1.4360 - val_acc: 0.5340\n",
      "Epoch 41/50\n",
      "32/32 - 2s - loss: 1.0005 - acc: 0.7680 - val_loss: 1.4189 - val_acc: 0.5520\n",
      "Epoch 42/50\n",
      "32/32 - 2s - loss: 0.9562 - acc: 0.8130 - val_loss: 1.4158 - val_acc: 0.5720\n",
      "Epoch 43/50\n",
      "32/32 - 2s - loss: 0.9432 - acc: 0.8010 - val_loss: 1.4143 - val_acc: 0.5740\n",
      "Epoch 44/50\n",
      "32/32 - 2s - loss: 0.9517 - acc: 0.7910 - val_loss: 1.4105 - val_acc: 0.5520\n",
      "Epoch 45/50\n",
      "32/32 - 2s - loss: 0.9819 - acc: 0.7810 - val_loss: 1.4496 - val_acc: 0.5800\n",
      "Epoch 46/50\n",
      "32/32 - 2s - loss: 0.9852 - acc: 0.7740 - val_loss: 1.4050 - val_acc: 0.5760\n",
      "Epoch 47/50\n",
      "32/32 - 2s - loss: 0.9391 - acc: 0.7930 - val_loss: 1.4298 - val_acc: 0.5880\n",
      "Epoch 48/50\n",
      "32/32 - 2s - loss: 0.9926 - acc: 0.7710 - val_loss: 1.4211 - val_acc: 0.5560\n",
      "Epoch 49/50\n",
      "32/32 - 2s - loss: 0.9588 - acc: 0.8090 - val_loss: 1.4756 - val_acc: 0.5680\n",
      "Epoch 50/50\n",
      "32/32 - 2s - loss: 0.9360 - acc: 0.8030 - val_loss: 1.4391 - val_acc: 0.5680\n",
      "16/16 [==============================] - 0s 18ms/step - loss: 1.4391 - acc: 0.5680\n"
     ]
    },
    {
     "data": {
      "image/png": "[encoded data removed]",
      "text/plain": [
       "<Figure size 432x288 with 1 Axes>"
      ]
     },
     "metadata": {
      "needs_background": "light"
     },
     "output_type": "display_data"
    },
    {
     "data": {
      "image/png": "[encoded data removed]",
      "text/plain": [
       "<Figure size 432x288 with 1 Axes>"
      ]
     },
     "metadata": {
      "needs_background": "light"
     },
     "output_type": "display_data"
    },
    {
     "name": "stdout",
     "output_type": "stream",
     "text": [
      "1.4390944242477417\n",
      "0.5680000185966492\n"
     ]
    }
   ],
   "source": [
    "cnn_2 = Sequential()\n",
    "cnn_2.add(Embedding(num_words, x_train_seq.shape[1], weights=[embedding_matrix], input_length=max_length, trainable=False))\n",
    "init_he_u = initializers.he_uniform(seed=None)\n",
    "cnn_2.add(Conv1D(128, 5, activation='relu', kernel_initializer=init_he_u, kernel_regularizer=l1(0.001)))\n",
    "cnn_2.add(GlobalMaxPooling1D())\n",
    "cnn_2.add(Dropout(0.5))\n",
    "cnn_2.add(Dense(32, activation='relu', kernel_initializer=init_he_u, kernel_regularizer=l1(0.001)))\n",
    "cnn_1.add(Dropout(0.5))\n",
    "cnn_2.add(Dense(10, activation='relu', kernel_initializer=init_he_u, kernel_regularizer=l1(0.001)))\n",
    "cnn_2.add(Flatten())\n",
    "cnn_2.add(Dense(3, activation='softmax', kernel_initializer=init_he_u, kernel_regularizer=l1(0.001)))\n",
    "cnn_2.compile(loss='categorical_crossentropy', optimizer='adam', metrics=['acc'])\n",
    "history = cnn_2.fit(x_train_seq, encTrainLabels, validation_data=(x_test_seq, encTestLabels), epochs=50, batch_size=32, verbose=2, shuffle=True)\n",
    "\n",
    "loss, acc = cnn_2.evaluate(x_test_seq, encTestLabels)\n",
    "\n",
    "plt.plot(history.history['loss'])\n",
    "plt.plot(history.history['val_loss'])\n",
    "plt.title('model loss')\n",
    "plt.ylabel('loss')\n",
    "plt.xlabel('epoch')\n",
    "plt.legend(['Train', 'Test'], loc='upper left')\n",
    "plt.show()\n",
    "\n",
    "# Plot training & validation accuracy values\n",
    "plt.plot(history.history['acc'])\n",
    "plt.plot(history.history['val_acc'])\n",
    "plt.title('model acc')\n",
    "plt.ylabel('accuracy')\n",
    "plt.xlabel('Epoch')\n",
    "plt.legend(['Train', 'Test'], loc='upper left')\n",
    "plt.show()\n",
    "\n",
    "print(loss)\n",
    "print(acc)"
   ]
  },
  {
   "cell_type": "code",
   "execution_count": 142,
   "id": "b30b33d5",
   "metadata": {},
   "outputs": [
    {
     "name": "stdout",
     "output_type": "stream",
     "text": [
      "Accuracy: 0.568\n"
     ]
    },
    {
     "data": {
      "image/png": "[encoded data removed]",
      "text/plain": [
       "<Figure size 432x288 with 2 Axes>"
      ]
     },
     "metadata": {
      "needs_background": "light"
     },
     "output_type": "display_data"
    }
   ],
   "source": [
    "preds = cnn_2.predict(x_test_seq)\n",
    "preds = np.argmax(preds, 1)\n",
    "acc = accuracy_score(preds, testLabels-1)\n",
    "print('Accuracy: ' + str(acc))\n",
    "\n",
    "cm = confusion_matrix(preds, testLabels-1, normalize='true')\n",
    "disLabels = ['Negative', 'Neutral', 'Positive']\n",
    "dis = ConfusionMatrixDisplay(cm, display_labels=disLabels)\n",
    "dis.plot()\n",
    "plt.show()"
   ]
  }
 ],
 "metadata": {
  "kernelspec": {
   "display_name": "Python 3",
   "language": "python",
   "name": "python3"
  },
  "language_info": {
   "codemirror_mode": {
    "name": "ipython",
    "version": 3
   },
   "file_extension": ".py",
   "mimetype": "text/x-python",
   "name": "python",
   "nbconvert_exporter": "python",
   "pygments_lexer": "ipython3",
   "version": "3.8.8"
  }
 },
 "nbformat": 4,
 "nbformat_minor": 5
}
